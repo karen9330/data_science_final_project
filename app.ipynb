{
 "cells": [
  {
   "cell_type": "code",
   "execution_count": 61,
   "metadata": {},
   "outputs": [],
   "source": [
    "import requests as r\n",
    "import json\n",
    "import pandas as pd\n",
    "from datetime import datetime\n",
    "import matplotlib.pyplot as plt\n",
    "\n",
    "import numpy as np\n",
    "import matplotlib.pyplot as plt\n",
    "from matplotlib.dates import AutoDateLocator\n",
    "\n",
    "import warnings\n",
    "warnings.filterwarnings('ignore')\n",
    "\n",
    "from tensorflow.keras.models import load_model\n",
    "from sklearn.metrics import roc_curve"
   ]
  },
  {
   "cell_type": "markdown",
   "metadata": {},
   "source": [
    "#### 爬蟲"
   ]
  },
  {
   "cell_type": "code",
   "execution_count": null,
   "metadata": {},
   "outputs": [],
   "source": [
    "def webCrawler(start, end, stockNo):\n",
    "    data_list = []\n",
    "\n",
    "    month_list = pd.date_range(str(start), str(end), freq='MS').strftime(\"%Y%m%d\").tolist()\n",
    "\n",
    "    # 去遍歷所有月份資料，其中 stockNo=2330 表示的是台積電的股票代碼\n",
    "    for month in month_list:\n",
    "        url = \"https://www.twse.com.tw/exchangeReport/STOCK_DAY?response=json&date=\"+ month + \"&stockNo=\" + stockNo\n",
    "        res = r.get(url)\n",
    "        if res.status_code == 200:  # 確保請求成功\n",
    "            stock_json = res.json()\n",
    "            if 'data' in stock_json:  # 確保有 'data' 欄位\n",
    "                data_list.extend(stock_json['data'])  # 將每月的資料添加到 list 中\n",
    "            else:\n",
    "                print(\"沒有 data 欄位\")\n",
    "        else:\n",
    "            print(\"爬取失敗\")\n",
    "\n",
    "    # 將資料轉換為 DataFrame\n",
    "    df = pd.DataFrame(data_list)\n",
    "    df.columns = ['date', 'volume', 'amount', 'open', 'high', 'low', 'close', 'price diff', '# of trades']\n",
    "    \n",
    "    for row in range(df.shape[0]):\n",
    "        date2 = df.iloc[row,0].split('/')\n",
    "        df.iloc[row, 0] = datetime(int(date2[0]) + 1911, int(date2[1]), int(date2[2])) # 把民國轉成西元\n",
    "\n",
    "    df['date'] = pd.to_datetime(df['date']).dt.date # 移除時間部分，只提取日期\n",
    "\n",
    "    df = df.drop(columns=['amount', 'open', 'price diff', '# of trades']) # 刪掉不用的欄位\n",
    "\n",
    "    # 把字串轉成浮點數\n",
    "    for col in [1, 2, 3, 4]:\n",
    "        for row in range(df.shape[0]):\n",
    "            df.iloc[row, col] = float(df.iloc[row,col].replace(',', ''))\n",
    "    return df\n"
   ]
  },
  {
   "cell_type": "markdown",
   "metadata": {},
   "source": [
    "#### 產生技術指標"
   ]
  },
  {
   "cell_type": "code",
   "execution_count": 63,
   "metadata": {},
   "outputs": [],
   "source": [
    "#計算移動平均線 (MA)\n",
    "def moving_average(data, window):\n",
    "    return data.rolling(window=window).mean()\n",
    "\n",
    "# 計算乖離率 (BIAS)\n",
    "def bias(data, ma):\n",
    "    return ((data - ma) / ma) * 100\n",
    "\n",
    "# 計算 K 和 D 值\n",
    "def stochastic_oscillator(data, high, low, n):\n",
    "    lowest_low = low.rolling(window=n).min()\n",
    "    highest_high = high.rolling(window=n).max()\n",
    "    rsv = ((data - lowest_low) / (highest_high - lowest_low)) * 100\n",
    "    k = rsv.ewm(alpha=1/3, adjust=False).mean()\n",
    "    d = k.ewm(alpha=1/3, adjust=False).mean()\n",
    "    return k, d\n",
    "\n",
    "# 計算 RSI\n",
    "def rsi(data, n):\n",
    "    delta = data.diff()\n",
    "    gain = delta.where(delta > 0, 0).ewm(span=n, adjust=False).mean()\n",
    "    loss = -delta.where(delta < 0, 0).ewm(span=n, adjust=False).mean()\n",
    "    rs = gain / loss\n",
    "    return 100 - (100 / (1 + rs))\n",
    "\n",
    "# 計算 MACD 和信號線\n",
    "def macd(data, short_window=12, long_window=26, signal_window=9):\n",
    "   # 計算 DI\n",
    "    DI = (data['high'] + data['low'] + 2 * data['close']) / 4\n",
    "    # 計算短期和長期 EMA\n",
    "    EMA_12 = DI.ewm(span=short_window, adjust=False).mean()\n",
    "    EMA_26 = DI.ewm(span=long_window, adjust=False).mean()\n",
    "    # 計算 DIF\n",
    "    DIF = EMA_12 - EMA_26\n",
    "    # 計算 MACD\n",
    "    MACD = DIF.ewm(span=signal_window, adjust=False).mean()\n",
    "    return MACD\n",
    "\n",
    "# 計算威廉指標 (WMS%R)\n",
    "def williams_r(data, high, low, n):\n",
    "    highest_high = high.rolling(window=n).max()\n",
    "    lowest_low = low.rolling(window=n).min()\n",
    "    return ((highest_high - data) / (highest_high - lowest_low)) * 100\n",
    "\n",
    "def generate_indicators(stock):\n",
    "    \n",
    "    stock['10MA'] = moving_average(stock['close'], 10)\n",
    "    stock['30MA'] = moving_average(stock['close'], 30)\n",
    "    stock['10BIAS'] = bias(stock['close'], stock['10MA'])\n",
    "    stock['30BIAS'] = bias(stock['close'], stock['30MA'])\n",
    "    stock['K'], stock['D'] = stochastic_oscillator(stock['close'], stock['high'], stock['low'], 9)\n",
    "    stock['RSI'] = rsi(stock['close'], 9)\n",
    "    stock['MACD']= macd(stock)\n",
    "    stock['WMS%R'] = williams_r(stock['close'], stock['high'], stock['low'], 14)\n",
    "    stock = stock.dropna().reset_index(drop=True)\n",
    "    return stock"
   ]
  },
  {
   "cell_type": "markdown",
   "metadata": {},
   "source": [
    "#### PLR 特徵提取"
   ]
  },
  {
   "cell_type": "code",
   "execution_count": 64,
   "metadata": {},
   "outputs": [],
   "source": [
    "# 定義節點類別\n",
    "class Node:\n",
    "    def __init__(self, x, y, start_idx, end_idx):\n",
    "        self.x = x\n",
    "        self.y = y\n",
    "        self.start_idx = start_idx\n",
    "        self.end_idx = end_idx\n",
    "        self.left = None\n",
    "        self.right = None"
   ]
  },
  {
   "cell_type": "code",
   "execution_count": 65,
   "metadata": {},
   "outputs": [],
   "source": [
    "# 計算點到直線的垂直距離\n",
    "def point_to_line_distance(x0, y0, x1, y1, x2, y2):\n",
    "    numerator = abs((y2 - y1)*x0 - (x2 - x1)*y0 + x2*y1 - y2*x1)\n",
    "    denominator = np.sqrt((y2 - y1)**2 + (x2 - x1)**2)\n",
    "    return numerator / (denominator + 1e-6)  # 加上極小值防止除以零"
   ]
  },
  {
   "cell_type": "code",
   "execution_count": 66,
   "metadata": {},
   "outputs": [],
   "source": [
    "# PLR 分段函數，遵循 BuildTree(S) 演算法\n",
    "def BuildTree(x, y, start_idx, end_idx, threshold):\n",
    "    # 建立當前節點\n",
    "    node = Node(x, y, start_idx, end_idx)\n",
    "\n",
    "    # 畫一條從起點到終點的直線\n",
    "    x1, y1 = x[start_idx], y[start_idx]\n",
    "    x2, y2 = x[end_idx], y[end_idx]\n",
    "\n",
    "    # 計算最大距離及其索引\n",
    "    max_distance = 0\n",
    "    index_of_max = start_idx\n",
    "    for i in range(start_idx + 1, end_idx):\n",
    "        distance = point_to_line_distance(x[i], y[i], x1, y1, x2, y2)\n",
    "        #print(i, x[i], y[i], distance)\n",
    "        if distance > max_distance:\n",
    "            max_distance = distance\n",
    "            index_of_max = i\n",
    "\n",
    "    # 判斷是否需要分割\n",
    "    if max_distance > threshold:\n",
    "        # 如果分割點的收盤價等於起點或終點的收盤價，則不分割\n",
    "        if y[index_of_max] == y[start_idx] or y[index_of_max] == y[end_idx]:\n",
    "            return node\n",
    "        # 分割為左右兩個子節點\n",
    "        node.left = BuildTree(x, y, start_idx, index_of_max, threshold)\n",
    "        node.right = BuildTree(x, y, index_of_max, end_idx, threshold)\n",
    "    return node"
   ]
  },
  {
   "cell_type": "code",
   "execution_count": 67,
   "metadata": {},
   "outputs": [],
   "source": [
    "# 遍歷樹，提取分段\n",
    "def get_segments(node, segments):\n",
    "    if node.left is None and node.right is None: # 判斷是不是葉節點\n",
    "        segments.append((node.start_idx, node.end_idx))\n",
    "    else:\n",
    "        if node.left:\n",
    "            get_segments(node.left, segments)\n",
    "        if node.right:\n",
    "            get_segments(node.right, segments)"
   ]
  },
  {
   "cell_type": "code",
   "execution_count": 68,
   "metadata": {},
   "outputs": [],
   "source": [
    "def PLR(stock, threshold):\n",
    "    # 準備數據\n",
    "    x = np.arange(len(stock))\n",
    "    y = stock['close'].values\n",
    "\n",
    "    # 建立 PLR 樹\n",
    "    root = BuildTree(x, y, 0, len(x) - 1, threshold)\n",
    "\n",
    "    # 獲取分段結果\n",
    "    segments = []\n",
    "    get_segments(root, segments)\n",
    "    return segments"
   ]
  },
  {
   "cell_type": "markdown",
   "metadata": {},
   "source": [
    "#### 提取特徵"
   ]
  },
  {
   "cell_type": "code",
   "execution_count": 69,
   "metadata": {},
   "outputs": [],
   "source": [
    "def get_features(segments, stock, x, y, threshold, feature_num):\n",
    "    # 提取特徵並構建特徵矩陣\n",
    "    features = []\n",
    "    labels = []\n",
    "\n",
    "    previous_label = None  # 用於記錄前一個標籤\n",
    "\n",
    "    for i in range(len(segments) - 1):\n",
    "        start_idx, end_idx = segments[i]\n",
    "        next_start_idx, next_end_idx = segments[i + 1]\n",
    "\n",
    "        # 當前段的特徵\n",
    "        x_segment = x[start_idx:end_idx + 1]\n",
    "        y_segment = y[start_idx:end_idx + 1]\n",
    "        volume_segment = stock['volume'].values[start_idx:end_idx + 1]\n",
    "\n",
    "        # 計算斜率\n",
    "        slope = (y_segment[-1] - y_segment[0]) / (x_segment[-1] - x_segment[0] + 1e-6)\n",
    "\n",
    "        # 段長\n",
    "        length = end_idx - start_idx\n",
    "\n",
    "        # 中點價格\n",
    "        mid_price = y_segment[len(y_segment) // 2]\n",
    "\n",
    "        # 平均交易量\n",
    "        avg_volume = np.mean(volume_segment)\n",
    "\n",
    "        # 交易量變化\n",
    "        volume_change = (volume_segment[-1] - volume_segment[0]) / (volume_segment[0] + 1e-6)\n",
    "\n",
    "        # 技術指標\n",
    "        ma_10_segment = stock['10MA'].values[start_idx:end_idx + 1]\n",
    "        ma_30_segment = stock['30MA'].values[start_idx:end_idx + 1]\n",
    "        rsi_segment = stock['RSI'].values[start_idx:end_idx + 1]\n",
    "        macd_segment = stock['MACD'].values[start_idx:end_idx + 1]\n",
    "        wmsr_segment = stock['WMS%R'].values[start_idx:end_idx + 1]\n",
    "        bias_10_segment = stock['10BIAS'].values[start_idx:end_idx + 1]\n",
    "        bias_30_segment = stock['30BIAS'].values[start_idx:end_idx + 1]\n",
    "        k_segment = stock['K'].values[start_idx:end_idx + 1]\n",
    "        d_segment = stock['D'].values[start_idx:end_idx + 1]\n",
    "\n",
    "        # 技術指標特徵\n",
    "        ma_10_mean = np.mean(ma_10_segment)\n",
    "        ma_30_mean = np.mean(ma_30_segment)\n",
    "        ma_10_std = np.std(ma_10_segment)\n",
    "        ma_30_std = np.std(ma_30_segment)\n",
    "\n",
    "        rsi_mean = np.mean(rsi_segment)\n",
    "        macd_mean = np.mean(macd_segment)\n",
    "        wmsr_mean = np.mean(wmsr_segment)\n",
    "\n",
    "        bias_10_mean = np.mean(bias_10_segment)\n",
    "        bias_10_std = np.std(bias_10_segment)\n",
    "        bias_30_mean = np.mean(bias_30_segment)\n",
    "        bias_30_std = np.std(bias_30_segment)\n",
    "\n",
    "        k_mean = np.mean(k_segment)\n",
    "        d_mean = np.mean(d_segment)\n",
    "\n",
    "        # 標籤：預測線段價格是上升（1）還是下降（0）\n",
    "        # [0, 37], [37, 38] 這兩個線段是比較 37 和 38 這兩個位置的股價變化\n",
    "        next_y_segment = y[next_start_idx:next_end_idx + 1]\n",
    "        price_change = next_y_segment[-1] - next_y_segment[0]\n",
    "\n",
    "        label = -1\n",
    "\n",
    "        if price_change > threshold:\n",
    "            label = 1\n",
    "        elif price_change < -threshold:\n",
    "            label = 0\n",
    "        elif previous_label is not None:  # 當標籤為 -1 時，標記為與上一個有效標籤相同\n",
    "            label = previous_label\n",
    "\n",
    "        if label in [0, 1]:  # 只把滿足條件的片段當作訓練資料\n",
    "            if feature_num > 12:\n",
    "                features.append([\n",
    "                    slope, length, mid_price, avg_volume, volume_change,\n",
    "                    ma_10_mean, ma_30_mean, ma_10_std, ma_30_std,\n",
    "                    rsi_mean, macd_mean, wmsr_mean,\n",
    "                    bias_10_mean, bias_10_std, bias_30_mean, bias_30_std, k_mean, d_mean  # 新增的技術指標\n",
    "                ])\n",
    "            else:\n",
    "                features.append([\n",
    "                    slope, length, mid_price, avg_volume, volume_change,\n",
    "                    ma_10_mean, ma_30_mean, ma_10_std, ma_30_std,\n",
    "                    rsi_mean, macd_mean, wmsr_mean,\n",
    "                ])\n",
    "            labels.append(label)\n",
    "\n",
    "            # 更新 previous_label\n",
    "            previous_label = label\n",
    "\n",
    "    # 轉換為 NumPy 數組\n",
    "    X = np.array(features)\n",
    "    y_labels = np.array(labels)\n",
    "    \n",
    "    return X, y_labels\n"
   ]
  },
  {
   "cell_type": "markdown",
   "metadata": {},
   "source": [
    "#### 模型結果"
   ]
  },
  {
   "cell_type": "code",
   "execution_count": 70,
   "metadata": {},
   "outputs": [],
   "source": [
    "def create_lstm_input(X, y, time_steps):\n",
    "    X_lstm = []\n",
    "    y_lstm = []\n",
    "    for i in range(len(X) - time_steps):\n",
    "        X_lstm.append(X[i:i+time_steps])\n",
    "        y_lstm.append(y[i+time_steps])\n",
    "        \n",
    "    return np.array(X_lstm), np.array(y_lstm)"
   ]
  },
  {
   "cell_type": "code",
   "execution_count": 71,
   "metadata": {},
   "outputs": [],
   "source": [
    "def run_model(X, y_labels, model):\n",
    "    X_test_lstm, y_test_lstm = create_lstm_input(X, y_labels, time_steps=2)\n",
    "    y_pred_prob = model.predict(X_test_lstm)\n",
    "    \n",
    "    fpr, tpr, thresholds = roc_curve(y_test_lstm, y_pred_prob)\n",
    "    optimal_idx = np.argmax(tpr - fpr)\n",
    "    optimal_threshold = thresholds[optimal_idx]\n",
    "\n",
    "    y_pred = (y_pred_prob >= optimal_threshold).astype(int).flatten()\n",
    "\n",
    "    return y_pred"
   ]
  },
  {
   "cell_type": "markdown",
   "metadata": {},
   "source": [
    "#### 最終輸出畫面"
   ]
  },
  {
   "cell_type": "code",
   "execution_count": 72,
   "metadata": {},
   "outputs": [],
   "source": [
    "import base64\n",
    "import io"
   ]
  },
  {
   "cell_type": "code",
   "execution_count": 73,
   "metadata": {},
   "outputs": [],
   "source": [
    "def calculate_stock_cost(buy_price, quantity):\n",
    "\n",
    "    handling_fee = buy_price * quantity * 0.001425 * 2  # 手續費\n",
    "    transaction_tax = buy_price * quantity * 0.003  # 交易稅\n",
    "    total_cost = (buy_price * quantity) + handling_fee + transaction_tax\n",
    "    return total_cost\n",
    "\n",
    "def calculate_stock_profit(buy_price, sell_price, quantity):\n",
    "\n",
    "    total_cost = calculate_stock_cost(buy_price, quantity)\n",
    "    total_revenue = sell_price * quantity\n",
    "    profit = total_revenue - total_cost\n",
    "    return profit"
   ]
  },
  {
   "cell_type": "code",
   "execution_count": 74,
   "metadata": {},
   "outputs": [],
   "source": [
    "def get_result(y_pred, segments, stock, y):\n",
    "    total_profit = 0\n",
    "    buy_price = None\n",
    "    buy_points = []  # 買入點的時間和價格\n",
    "    sell_points = []  # 賣出點的時間和價格\n",
    "    start = 0\n",
    "    time_steps = 2\n",
    "    \n",
    "    # 計算獲利並記錄買賣點\n",
    "    for i in range(len(y_pred)):\n",
    "        if y_pred[i] == 1 and buy_price is None:  # 買入\n",
    "            if start == 0:\n",
    "                start = segments[i + time_steps][1]\n",
    "            buy_price = y[segments[i + time_steps][1]]\n",
    "            buy_points.append((segments[i + time_steps][1], buy_price))\n",
    "\n",
    "        elif y_pred[i] == 0 and buy_price is not None:  # 賣出\n",
    "            sell_price = y[segments[i + time_steps][1]]\n",
    "            sell_points.append((segments[i + time_steps][1], sell_price))\n",
    "\n",
    "            # 計算單次交易的成本與獲利\n",
    "            quantity = 100  # 假設買賣股數固定為 100 股\n",
    "            profit = calculate_stock_profit(buy_price, sell_price, quantity)\n",
    "            total_profit += profit\n",
    "            #print(f\"此次交易獲利: {profit:.2f} 元\")\n",
    "\n",
    "            # 重置買入價格\n",
    "            buy_price = None\n",
    "\n",
    "    # 提取買賣點數據\n",
    "    buy_times, buy_prices = zip(*buy_points) if buy_points else ([], [])\n",
    "    sell_times, sell_prices = zip(*sell_points) if sell_points else ([], [])\n",
    "\n",
    "    date = stock.iloc[start:]['date'].reset_index(drop=True)\n",
    "    y_range = y[start:]\n",
    "\n",
    "    # 繪製價格折線圖和買賣點\n",
    "    plt.figure(figsize=(12, 6))\n",
    "    plt.plot(date, y_range, label='Original Price', color='blue', linewidth=3) # 繪製價格折線圖\n",
    "\n",
    "    # 買入點\n",
    "    buy_dates = [date.iloc[buy_time - start] for buy_time in buy_times]\n",
    "    plt.scatter(buy_dates, buy_prices, color='green', label='buy', marker='^', s=100)\n",
    "\n",
    "    # 賣出點\n",
    "    sell_dates = [date.iloc[sell_time - start] for sell_time in sell_times]\n",
    "    plt.scatter(sell_dates, sell_prices, color='red', label='Sell', marker='v', s=100)\n",
    "\n",
    "    # 格式化 x 軸為日期\n",
    "    plt.gca().xaxis.set_major_locator(AutoDateLocator())  # 自動調整日期間隔\n",
    "\n",
    "    # 旋轉 x 軸標籤\n",
    "    plt.xticks(rotation=45)\n",
    "\n",
    "    # 添加圖例與標題\n",
    "    plt.xlabel('time index')\n",
    "    plt.ylabel('price')\n",
    "    plt.legend()\n",
    "    plt.grid(True)\n",
    "\n",
    "    #plt.show()\n",
    "    \n",
    "    # 將圖像保存到內存並轉換為 Base64\n",
    "    buf = io.BytesIO()\n",
    "    plt.savefig(buf, format='png')\n",
    "    buf.seek(0)\n",
    "    image_base64 = base64.b64encode(buf.getvalue()).decode('utf-8')\n",
    "    buf.close()\n",
    "    plt.close()\n",
    "\n",
    "    return image_base64, total_profit\n"
   ]
  },
  {
   "cell_type": "markdown",
   "metadata": {},
   "source": [
    "#### 後端"
   ]
  },
  {
   "cell_type": "code",
   "execution_count": null,
   "metadata": {},
   "outputs": [
    {
     "name": "stdout",
     "output_type": "stream",
     "text": [
      " * Serving Flask app '__main__'\n",
      " * Debug mode: on\n"
     ]
    },
    {
     "name": "stderr",
     "output_type": "stream",
     "text": [
      "\u001b[31m\u001b[1mWARNING: This is a development server. Do not use it in a production deployment. Use a production WSGI server instead.\u001b[0m\n",
      " * Running on http://127.0.0.1:5000\n",
      "INFO:werkzeug:\u001b[31m\u001b[1mWARNING: This is a development server. Do not use it in a production deployment. Use a production WSGI server instead.\u001b[0m\n",
      " * Running on http://127.0.0.1:5000\n",
      "\u001b[33mPress CTRL+C to quit\u001b[0m\n",
      "INFO:werkzeug:\u001b[33mPress CTRL+C to quit\u001b[0m\n",
      "WARNING:absl:Compiled the loaded model, but the compiled metrics have yet to be built. `model.compile_metrics` will be empty until you train or evaluate the model.\n"
     ]
    },
    {
     "name": "stdout",
     "output_type": "stream",
     "text": [
      "(368, 5)\n",
      "76\n",
      "75 75\n",
      "\u001b[1m3/3\u001b[0m \u001b[32m━━━━━━━━━━━━━━━━━━━━\u001b[0m\u001b[37m\u001b[0m \u001b[1m0s\u001b[0m 37ms/step\n"
     ]
    },
    {
     "name": "stderr",
     "output_type": "stream",
     "text": [
      "127.0.0.1 - - [14/Jan/2025 12:24:45] \"POST /get_stock_data HTTP/1.1\" 200 -\n",
      "INFO:werkzeug:127.0.0.1 - - [14/Jan/2025 12:24:45] \"POST /get_stock_data HTTP/1.1\" 200 -\n"
     ]
    },
    {
     "name": "stdout",
     "output_type": "stream",
     "text": [
      "[0 1 0 0 0 1 0 0 1 1 0 1 0 0 1 1 0 1 1 0 1 0 0 1 0 1 1 1 0 0 0 1 0 1 0 1 1\n",
      " 0 1 1 1 1 1 0 0 1 1 1 0 1 0 1 0 0 0 0 1 0 1 0 0 0 1 1 0 0 1 1 0 0 0 1 0]\n"
     ]
    },
    {
     "name": "stderr",
     "output_type": "stream",
     "text": [
      "WARNING:absl:Compiled the loaded model, but the compiled metrics have yet to be built. `model.compile_metrics` will be empty until you train or evaluate the model.\n"
     ]
    },
    {
     "name": "stdout",
     "output_type": "stream",
     "text": [
      "(264, 5)\n",
      "63\n",
      "62 62\n",
      "\u001b[1m2/2\u001b[0m \u001b[32m━━━━━━━━━━━━━━━━━━━━\u001b[0m\u001b[37m\u001b[0m \u001b[1m0s\u001b[0m 67ms/step\n",
      "[0 1 0 0 0 1 0 0 1 1 0 1 0 0 1 0 0 1 1 0 0 0 0 1 0 0 1 0 0 0 0 1 0 1 0 1 1\n",
      " 0 0 0 0 1 0 0 0 0 1 1 0 0 0 1 0 0 0 0 1 0 1 0]\n"
     ]
    },
    {
     "name": "stderr",
     "output_type": "stream",
     "text": [
      "127.0.0.1 - - [14/Jan/2025 12:25:09] \"POST /get_stock_data HTTP/1.1\" 200 -\n",
      "INFO:werkzeug:127.0.0.1 - - [14/Jan/2025 12:25:09] \"POST /get_stock_data HTTP/1.1\" 200 -\n",
      "WARNING:absl:Compiled the loaded model, but the compiled metrics have yet to be built. `model.compile_metrics` will be empty until you train or evaluate the model.\n"
     ]
    },
    {
     "name": "stdout",
     "output_type": "stream",
     "text": [
      "(243, 5)\n",
      "60\n",
      "59 59\n",
      "\u001b[1m2/2\u001b[0m \u001b[32m━━━━━━━━━━━━━━━━━━━━\u001b[0m\u001b[37m\u001b[0m \u001b[1m0s\u001b[0m 69ms/step\n",
      "[0 1 0 0 0 1 0 0 1 1 0 1 0 0 1 0 0 1 1 0 0 0 0 1 0 0 1 0 0 0 0 1 0 1 0 1 1\n",
      " 0 0 0 0 1 0 0 0 0 1 1 0 0 0 1 0 0 0 0 1]\n"
     ]
    },
    {
     "name": "stderr",
     "output_type": "stream",
     "text": [
      "127.0.0.1 - - [14/Jan/2025 12:25:30] \"POST /get_stock_data HTTP/1.1\" 200 -\n",
      "INFO:werkzeug:127.0.0.1 - - [14/Jan/2025 12:25:30] \"POST /get_stock_data HTTP/1.1\" 200 -\n",
      "WARNING:absl:Compiled the loaded model, but the compiled metrics have yet to be built. `model.compile_metrics` will be empty until you train or evaluate the model.\n"
     ]
    },
    {
     "name": "stdout",
     "output_type": "stream",
     "text": [
      "(243, 5)\n",
      "44\n",
      "43 43\n",
      "\u001b[1m2/2\u001b[0m \u001b[32m━━━━━━━━━━━━━━━━━━━━\u001b[0m\u001b[37m\u001b[0m \u001b[1m0s\u001b[0m 71ms/step\n"
     ]
    },
    {
     "name": "stderr",
     "output_type": "stream",
     "text": [
      "127.0.0.1 - - [14/Jan/2025 12:26:30] \"POST /get_stock_data HTTP/1.1\" 200 -\n",
      "INFO:werkzeug:127.0.0.1 - - [14/Jan/2025 12:26:30] \"POST /get_stock_data HTTP/1.1\" 200 -\n"
     ]
    },
    {
     "name": "stdout",
     "output_type": "stream",
     "text": [
      "[0 0 0 0 0 0 0 0 0 0 0 0 0 0 0 0 0 0 0 0 0 1 0 0 1 0 0 0 1 0 0 0 0 0 0 0 0\n",
      " 0 0 0 1]\n"
     ]
    },
    {
     "name": "stderr",
     "output_type": "stream",
     "text": [
      "WARNING:absl:Compiled the loaded model, but the compiled metrics have yet to be built. `model.compile_metrics` will be empty until you train or evaluate the model.\n"
     ]
    },
    {
     "name": "stdout",
     "output_type": "stream",
     "text": [
      "(264, 5)\n",
      "48\n",
      "47 47\n",
      "\u001b[1m2/2\u001b[0m \u001b[32m━━━━━━━━━━━━━━━━━━━━\u001b[0m\u001b[37m\u001b[0m \u001b[1m0s\u001b[0m 67ms/step\n",
      "[1 1 1 0 0 1 1 1 1 1 1 1 1 1 1 1 1 1 1 1 1 1 1 0 1 1 0 1 1 1 1 0 1 1 1 1 1\n",
      " 1 1 1 1 1 0 1 1]\n"
     ]
    },
    {
     "name": "stderr",
     "output_type": "stream",
     "text": [
      "127.0.0.1 - - [14/Jan/2025 12:26:45] \"POST /get_stock_data HTTP/1.1\" 200 -\n",
      "INFO:werkzeug:127.0.0.1 - - [14/Jan/2025 12:26:45] \"POST /get_stock_data HTTP/1.1\" 200 -\n",
      "WARNING:absl:Compiled the loaded model, but the compiled metrics have yet to be built. `model.compile_metrics` will be empty until you train or evaluate the model.\n"
     ]
    },
    {
     "name": "stdout",
     "output_type": "stream",
     "text": [
      "(368, 5)\n",
      "73\n",
      "72 72\n",
      "\u001b[1m3/3\u001b[0m \u001b[32m━━━━━━━━━━━━━━━━━━━━\u001b[0m\u001b[37m\u001b[0m \u001b[1m0s\u001b[0m 35ms/step\n",
      "[1 1 1 0 0 1 1 1 1 1 1 1 1 1 1 1 1 1 1 1 1 1 1 0 1 1 0 1 1 1 1 0 1 1 1 1 1\n",
      " 1 1 1 1 1 0 1 1 1 1 1 1 1 0 1 1 1 1 1 1 0 1 1 1 1 1 0 1 1 1 1 1 1]"
     ]
    },
    {
     "name": "stderr",
     "output_type": "stream",
     "text": [
      "127.0.0.1 - - [14/Jan/2025 12:27:06] \"POST /get_stock_data HTTP/1.1\" 200 -\n",
      "INFO:werkzeug:127.0.0.1 - - [14/Jan/2025 12:27:06] \"POST /get_stock_data HTTP/1.1\" 200 -\n"
     ]
    },
    {
     "name": "stdout",
     "output_type": "stream",
     "text": [
      "\n"
     ]
    },
    {
     "name": "stderr",
     "output_type": "stream",
     "text": [
      "WARNING:absl:Compiled the loaded model, but the compiled metrics have yet to be built. `model.compile_metrics` will be empty until you train or evaluate the model.\n"
     ]
    },
    {
     "name": "stdout",
     "output_type": "stream",
     "text": [
      "(368, 5)\n",
      "68\n",
      "67 67\n",
      "\u001b[1m3/3\u001b[0m \u001b[32m━━━━━━━━━━━━━━━━━━━━\u001b[0m\u001b[37m\u001b[0m \u001b[1m0s\u001b[0m 48ms/step\n"
     ]
    },
    {
     "name": "stderr",
     "output_type": "stream",
     "text": [
      "127.0.0.1 - - [14/Jan/2025 12:27:18] \"POST /get_stock_data HTTP/1.1\" 200 -\n",
      "INFO:werkzeug:127.0.0.1 - - [14/Jan/2025 12:27:18] \"POST /get_stock_data HTTP/1.1\" 200 -\n"
     ]
    },
    {
     "name": "stdout",
     "output_type": "stream",
     "text": [
      "[1 0 0 1 0 0 1 0 0 0 0 1 0 0 0 1 0 0 0 1 0 0 0 1 0 0 0 0 1 0 0 1 0 1 0 1 1\n",
      " 0 0 0 0 1 0 0 0 0 1 1 0 0 0 0 1 1 0 0 1 0 0 0 0 1 1 0 0]\n"
     ]
    },
    {
     "name": "stderr",
     "output_type": "stream",
     "text": [
      "WARNING:absl:Compiled the loaded model, but the compiled metrics have yet to be built. `model.compile_metrics` will be empty until you train or evaluate the model.\n"
     ]
    },
    {
     "name": "stdout",
     "output_type": "stream",
     "text": [
      "(388, 5)\n",
      "69\n",
      "68 68\n",
      "\u001b[1m3/3\u001b[0m \u001b[32m━━━━━━━━━━━━━━━━━━━━\u001b[0m\u001b[37m\u001b[0m \u001b[1m0s\u001b[0m 34ms/step\n"
     ]
    },
    {
     "name": "stderr",
     "output_type": "stream",
     "text": [
      "127.0.0.1 - - [14/Jan/2025 12:27:43] \"POST /get_stock_data HTTP/1.1\" 200 -\n",
      "INFO:werkzeug:127.0.0.1 - - [14/Jan/2025 12:27:43] \"POST /get_stock_data HTTP/1.1\" 200 -\n"
     ]
    },
    {
     "name": "stdout",
     "output_type": "stream",
     "text": [
      "[0 0 1 0 1 0 0 1 0 0 0 0 1 0 0 0 1 0 0 0 1 0 0 0 1 0 0 0 0 1 0 0 1 0 1 0 1\n",
      " 1 0 0 0 0 1 0 0 0 0 1 1 0 0 0 0 1 1 0 0 1 0 0 0 0 1 1 0 0]\n"
     ]
    },
    {
     "name": "stderr",
     "output_type": "stream",
     "text": [
      "WARNING:absl:Compiled the loaded model, but the compiled metrics have yet to be built. `model.compile_metrics` will be empty until you train or evaluate the model.\n"
     ]
    },
    {
     "name": "stdout",
     "output_type": "stream",
     "text": [
      "(144, 5)\n",
      "26\n",
      "25 25\n",
      "\u001b[1m1/1\u001b[0m \u001b[32m━━━━━━━━━━━━━━━━━━━━\u001b[0m\u001b[37m\u001b[0m \u001b[1m0s\u001b[0m 79ms/step\n",
      "[1 1 1 0 1 1 1 0 1 0 1 1 1 0 1 0 0 1 1 1 1 1 0]\n"
     ]
    },
    {
     "name": "stderr",
     "output_type": "stream",
     "text": [
      "127.0.0.1 - - [14/Jan/2025 12:28:04] \"POST /get_stock_data HTTP/1.1\" 200 -\n",
      "INFO:werkzeug:127.0.0.1 - - [14/Jan/2025 12:28:04] \"POST /get_stock_data HTTP/1.1\" 200 -\n",
      "WARNING:absl:Compiled the loaded model, but the compiled metrics have yet to be built. `model.compile_metrics` will be empty until you train or evaluate the model.\n"
     ]
    },
    {
     "name": "stdout",
     "output_type": "stream",
     "text": [
      "(144, 5)\n",
      "26\n",
      "25 25\n",
      "\u001b[1m1/1\u001b[0m \u001b[32m━━━━━━━━━━━━━━━━━━━━\u001b[0m\u001b[37m\u001b[0m \u001b[1m0s\u001b[0m 72ms/step\n"
     ]
    },
    {
     "name": "stderr",
     "output_type": "stream",
     "text": [
      "127.0.0.1 - - [14/Jan/2025 12:28:14] \"POST /get_stock_data HTTP/1.1\" 200 -\n",
      "INFO:werkzeug:127.0.0.1 - - [14/Jan/2025 12:28:14] \"POST /get_stock_data HTTP/1.1\" 200 -\n"
     ]
    },
    {
     "name": "stdout",
     "output_type": "stream",
     "text": [
      "[1 1 1 0 1 1 1 1 1 1 0 1 1 1 1 1 0 1 1 1 1 1 1]\n"
     ]
    },
    {
     "name": "stderr",
     "output_type": "stream",
     "text": [
      "WARNING:absl:Compiled the loaded model, but the compiled metrics have yet to be built. `model.compile_metrics` will be empty until you train or evaluate the model.\n"
     ]
    },
    {
     "name": "stdout",
     "output_type": "stream",
     "text": [
      "(144, 5)\n",
      "26\n",
      "25 25\n",
      "\u001b[1m1/1\u001b[0m \u001b[32m━━━━━━━━━━━━━━━━━━━━\u001b[0m\u001b[37m\u001b[0m \u001b[1m0s\u001b[0m 69ms/step\n"
     ]
    },
    {
     "name": "stderr",
     "output_type": "stream",
     "text": [
      "127.0.0.1 - - [14/Jan/2025 12:28:40] \"POST /get_stock_data HTTP/1.1\" 200 -\n",
      "INFO:werkzeug:127.0.0.1 - - [14/Jan/2025 12:28:40] \"POST /get_stock_data HTTP/1.1\" 200 -\n"
     ]
    },
    {
     "name": "stdout",
     "output_type": "stream",
     "text": [
      "[1 1 1 0 1 1 1 0 1 0 1 1 1 0 1 0 0 1 1 1 1 1 0]\n"
     ]
    },
    {
     "name": "stderr",
     "output_type": "stream",
     "text": [
      "WARNING:absl:Compiled the loaded model, but the compiled metrics have yet to be built. `model.compile_metrics` will be empty until you train or evaluate the model.\n"
     ]
    },
    {
     "name": "stdout",
     "output_type": "stream",
     "text": [
      "(144, 5)\n",
      "17\n",
      "16 16\n",
      "\u001b[1m1/1\u001b[0m \u001b[32m━━━━━━━━━━━━━━━━━━━━\u001b[0m\u001b[37m\u001b[0m \u001b[1m0s\u001b[0m 92ms/step\n",
      "[0 0 0 0 0 0 0 0 0 0 0 0 0 1]\n"
     ]
    },
    {
     "name": "stderr",
     "output_type": "stream",
     "text": [
      "127.0.0.1 - - [14/Jan/2025 12:29:09] \"POST /get_stock_data HTTP/1.1\" 200 -\n",
      "INFO:werkzeug:127.0.0.1 - - [14/Jan/2025 12:29:09] \"POST /get_stock_data HTTP/1.1\" 200 -\n",
      "WARNING:absl:Compiled the loaded model, but the compiled metrics have yet to be built. `model.compile_metrics` will be empty until you train or evaluate the model.\n"
     ]
    },
    {
     "name": "stdout",
     "output_type": "stream",
     "text": [
      "(242, 5)\n",
      "36\n",
      "35 35\n",
      "\u001b[1m2/2\u001b[0m \u001b[32m━━━━━━━━━━━━━━━━━━━━\u001b[0m\u001b[37m\u001b[0m \u001b[1m0s\u001b[0m 69ms/step\n",
      "[0 0 1 1 0 1 1 1 1 1 1 1 1 1 0 0 0 1 0 1 1 1 1 1 1 1 1 1 1 1 0 1 1]\n"
     ]
    },
    {
     "name": "stderr",
     "output_type": "stream",
     "text": [
      "127.0.0.1 - - [14/Jan/2025 12:29:16] \"POST /get_stock_data HTTP/1.1\" 200 -\n",
      "INFO:werkzeug:127.0.0.1 - - [14/Jan/2025 12:29:16] \"POST /get_stock_data HTTP/1.1\" 200 -\n",
      "WARNING:absl:Compiled the loaded model, but the compiled metrics have yet to be built. `model.compile_metrics` will be empty until you train or evaluate the model.\n"
     ]
    },
    {
     "name": "stdout",
     "output_type": "stream",
     "text": [
      "(368, 5)\n",
      "57\n",
      "56 56\n",
      "\u001b[1m2/2\u001b[0m \u001b[32m━━━━━━━━━━━━━━━━━━━━\u001b[0m\u001b[37m\u001b[0m \u001b[1m0s\u001b[0m 70ms/step\n",
      "[1 1 0 0 0 1 1 0 0 1 0 1 0 1 1 1 0 1 1 0 1 1 0 1 1 0 1 1 1 1 1 1 1 1 1 0 0\n",
      " 0 1 0 1 1 1 1 1 1 1 1 1 1 1 0 1 1]\n"
     ]
    },
    {
     "name": "stderr",
     "output_type": "stream",
     "text": [
      "127.0.0.1 - - [14/Jan/2025 12:29:39] \"POST /get_stock_data HTTP/1.1\" 200 -\n",
      "INFO:werkzeug:127.0.0.1 - - [14/Jan/2025 12:29:39] \"POST /get_stock_data HTTP/1.1\" 200 -\n",
      "WARNING:absl:Compiled the loaded model, but the compiled metrics have yet to be built. `model.compile_metrics` will be empty until you train or evaluate the model.\n"
     ]
    },
    {
     "name": "stdout",
     "output_type": "stream",
     "text": [
      "(368, 5)\n",
      "76\n",
      "75 75\n",
      "\u001b[1m3/3\u001b[0m \u001b[32m━━━━━━━━━━━━━━━━━━━━\u001b[0m\u001b[37m\u001b[0m \u001b[1m0s\u001b[0m 39ms/step\n"
     ]
    },
    {
     "name": "stderr",
     "output_type": "stream",
     "text": [
      "127.0.0.1 - - [14/Jan/2025 12:30:20] \"POST /get_stock_data HTTP/1.1\" 200 -\n",
      "INFO:werkzeug:127.0.0.1 - - [14/Jan/2025 12:30:20] \"POST /get_stock_data HTTP/1.1\" 200 -\n"
     ]
    },
    {
     "name": "stdout",
     "output_type": "stream",
     "text": [
      "[0 1 0 0 0 1 0 0 1 1 0 1 0 0 1 1 0 1 1 0 1 0 0 1 0 1 1 1 0 0 0 1 0 1 0 1 1\n",
      " 0 1 1 1 1 1 0 0 1 1 1 0 1 0 1 0 0 0 0 1 0 1 0 0 0 1 1 0 0 1 1 0 0 0 1 0]\n"
     ]
    },
    {
     "name": "stderr",
     "output_type": "stream",
     "text": [
      "WARNING:absl:Compiled the loaded model, but the compiled metrics have yet to be built. `model.compile_metrics` will be empty until you train or evaluate the model.\n"
     ]
    },
    {
     "name": "stdout",
     "output_type": "stream",
     "text": [
      "(243, 5)\n",
      "60\n",
      "59 59\n",
      "\u001b[1m2/2\u001b[0m \u001b[32m━━━━━━━━━━━━━━━━━━━━\u001b[0m\u001b[37m\u001b[0m \u001b[1m0s\u001b[0m 83ms/step\n"
     ]
    },
    {
     "name": "stderr",
     "output_type": "stream",
     "text": [
      "127.0.0.1 - - [14/Jan/2025 12:30:29] \"POST /get_stock_data HTTP/1.1\" 200 -\n",
      "INFO:werkzeug:127.0.0.1 - - [14/Jan/2025 12:30:29] \"POST /get_stock_data HTTP/1.1\" 200 -\n"
     ]
    },
    {
     "name": "stdout",
     "output_type": "stream",
     "text": [
      "[0 1 0 0 0 1 0 0 1 1 0 1 0 0 1 0 0 1 1 0 0 0 0 1 0 0 1 0 0 0 0 1 0 1 0 1 1\n",
      " 0 0 0 0 1 0 0 0 0 1 1 0 0 0 1 0 0 0 0 1]\n"
     ]
    },
    {
     "name": "stderr",
     "output_type": "stream",
     "text": [
      "WARNING:absl:Compiled the loaded model, but the compiled metrics have yet to be built. `model.compile_metrics` will be empty until you train or evaluate the model.\n"
     ]
    },
    {
     "name": "stdout",
     "output_type": "stream",
     "text": [
      "(243, 5)\n",
      "38\n",
      "37 37\n",
      "\u001b[1m2/2\u001b[0m \u001b[32m━━━━━━━━━━━━━━━━━━━━\u001b[0m\u001b[37m\u001b[0m \u001b[1m0s\u001b[0m 68ms/step\n"
     ]
    },
    {
     "name": "stderr",
     "output_type": "stream",
     "text": [
      "127.0.0.1 - - [14/Jan/2025 12:30:41] \"POST /get_stock_data HTTP/1.1\" 200 -\n",
      "INFO:werkzeug:127.0.0.1 - - [14/Jan/2025 12:30:41] \"POST /get_stock_data HTTP/1.1\" 200 -\n"
     ]
    },
    {
     "name": "stdout",
     "output_type": "stream",
     "text": [
      "[1 1 0 0 0 1 0 0 0 1 0 1 0 1 1 1 0 1 1 0 1 1 0 0 1 0 1 1 1 0 0 1 1 1 1]\n"
     ]
    }
   ],
   "source": [
    "from flask import Flask, render_template, request, jsonify\n",
    "from joblib import dump, load\n",
    "\n",
    "app = Flask(__name__)\n",
    "\n",
    "@app.route('/')\n",
    "def index():\n",
    "    return render_template('index.html')\n",
    "\n",
    "@app.route('/get_stock_data', methods=['POST'])\n",
    "def get_stock_data():\n",
    "    stock_symbol = request.form['stock_symbol']\n",
    "    start_date = request.form['start_date']\n",
    "    end_date = request.form['end_date']\n",
    "\n",
    "    try:\n",
    "        # 爬取數據\n",
    "        stock_data = webCrawler(start_date, end_date, stock_symbol)\n",
    "        \n",
    "        stock_data = generate_indicators(stock_data)\n",
    "        thresholds = {\"2330\": 4, \"3443\": 5, \"3034\": 4.5, \"2379\": 3.5}\n",
    "        feature_nums = {\"2330\": 12, \"3443\": 12, \"3034\": 12, \"2379\": 12}\n",
    "\n",
    "        threshold = thresholds.get(stock_symbol)\n",
    "        feature_num = feature_nums.get(stock_symbol)\n",
    "\n",
    "        # PLR 特徵提取\n",
    "        segments = PLR(stock_data, threshold)\n",
    "        X, y_labels = get_features(segments, stock_data, np.arange(len(stock_data)), stock_data['close'].values, threshold, feature_num)\n",
    "        \n",
    "        model_paths = {\n",
    "            \"2330\": \"models/2330_model.h5\",\n",
    "            \"3443\": \"models/3443_model.h5\",\n",
    "            \"3034\": \"models/3034_model.h5\",\n",
    "            \"2379\": \"models/2379_model.h5\",\n",
    "        }\n",
    "        model_path = model_paths.get(stock_symbol)\n",
    "\n",
    "        model = load_model(model_path)\n",
    "        y_pred = run_model(X, y_labels, model)\n",
    "\n",
    "        image_base64, total_profit = get_result(y_pred, segments, stock_data, stock_data['close'].values)\n",
    "\n",
    "        return jsonify({'status': 'success', 'image': image_base64, 'profit': total_profit})\n",
    "    except Exception as e:\n",
    "        return jsonify({'status': 'error', 'message': str(e)})\n",
    "\n",
    "if __name__ == '__main__':\n",
    "    app.run(debug=True, use_reloader=False)"
   ]
  }
 ],
 "metadata": {
  "kernelspec": {
   "display_name": "DS_class",
   "language": "python",
   "name": "python3"
  },
  "language_info": {
   "codemirror_mode": {
    "name": "ipython",
    "version": 3
   },
   "file_extension": ".py",
   "mimetype": "text/x-python",
   "name": "python",
   "nbconvert_exporter": "python",
   "pygments_lexer": "ipython3",
   "version": "3.12.2"
  }
 },
 "nbformat": 4,
 "nbformat_minor": 2
}
