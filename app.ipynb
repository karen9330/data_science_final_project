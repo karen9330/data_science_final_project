{
 "cells": [
  {
   "cell_type": "code",
   "execution_count": 127,
   "metadata": {},
   "outputs": [],
   "source": [
    "import requests as r\n",
    "import json\n",
    "import pandas as pd\n",
    "from datetime import datetime\n",
    "import matplotlib.pyplot as plt\n",
    "\n",
    "import numpy as np\n",
    "import matplotlib.pyplot as plt\n",
    "from matplotlib.dates import AutoDateLocator\n",
    "\n",
    "import warnings\n",
    "warnings.filterwarnings('ignore')\n",
    "\n",
    "from tensorflow.keras.models import load_model\n",
    "from sklearn.metrics import roc_curve"
   ]
  },
  {
   "cell_type": "markdown",
   "metadata": {},
   "source": [
    "#### 爬蟲"
   ]
  },
  {
   "cell_type": "code",
   "execution_count": 128,
   "metadata": {},
   "outputs": [],
   "source": [
    "def webCrawler(start, end, stockNo):\n",
    "    data_list = []\n",
    "\n",
    "    # 設定要爬取的年份範圍 2010 ~ 2024，共 15 年 (因為證交所提供的資料只有到 2010)\n",
    "    month_list = pd.date_range(str(start), str(end), freq='MS').strftime(\"%Y%m%d\").tolist()\n",
    "\n",
    "    # 去遍歷所有月份資料，其中 stockNo=2330 表示的是台積電的股票代碼\n",
    "    for month in month_list:\n",
    "        url = \"https://www.twse.com.tw/exchangeReport/STOCK_DAY?response=json&date=\"+ month + \"&stockNo=\" + stockNo\n",
    "        res = r.get(url)\n",
    "        if res.status_code == 200:  # 確保請求成功\n",
    "            stock_json = res.json()\n",
    "            if 'data' in stock_json:  # 確保有 'data' 欄位\n",
    "                data_list.extend(stock_json['data'])  # 將每月的資料添加到 list 中\n",
    "            else:\n",
    "                print(\"沒有 data 欄位\")\n",
    "        else:\n",
    "            print(\"爬取失敗\")\n",
    "\n",
    "    # 將資料轉換為 DataFrame\n",
    "    df = pd.DataFrame(data_list)\n",
    "    df.columns = ['date', 'volume', 'amount', 'open', 'high', 'low', 'close', 'price diff', '# of trades']\n",
    "    \n",
    "    for row in range(df.shape[0]):\n",
    "        date2 = df.iloc[row,0].split('/')\n",
    "        df.iloc[row, 0] = datetime(int(date2[0]) + 1911, int(date2[1]), int(date2[2])) # 把民國轉成西元\n",
    "\n",
    "    df['date'] = pd.to_datetime(df['date']).dt.date # 移除時間部分，只提取日期\n",
    "\n",
    "    df = df.drop(columns=['amount', 'open', 'price diff', '# of trades']) # 刪掉不用的欄位\n",
    "\n",
    "    # 把字串轉成浮點數\n",
    "    for col in [1, 2, 3, 4]:\n",
    "        for row in range(df.shape[0]):\n",
    "            df.iloc[row, col] = float(df.iloc[row,col].replace(',', ''))\n",
    "\n",
    "    return df\n"
   ]
  },
  {
   "cell_type": "markdown",
   "metadata": {},
   "source": [
    "#### 產生技術指標"
   ]
  },
  {
   "cell_type": "code",
   "execution_count": 129,
   "metadata": {},
   "outputs": [],
   "source": [
    "#計算移動平均線 (MA)\n",
    "def moving_average(data, window):\n",
    "    return data.rolling(window=window).mean()\n",
    "\n",
    "# 計算乖離率 (BIAS)\n",
    "def bias(data, ma):\n",
    "    return ((data - ma) / ma) * 100\n",
    "\n",
    "# 計算 K 和 D 值\n",
    "def stochastic_oscillator(data, high, low, n):\n",
    "    lowest_low = low.rolling(window=n).min()\n",
    "    highest_high = high.rolling(window=n).max()\n",
    "    rsv = ((data - lowest_low) / (highest_high - lowest_low)) * 100\n",
    "    k = rsv.ewm(alpha=1/3, adjust=False).mean()\n",
    "    d = k.ewm(alpha=1/3, adjust=False).mean()\n",
    "    return k, d\n",
    "\n",
    "# 計算 RSI\n",
    "def rsi(data, n):\n",
    "    delta = data.diff()\n",
    "    gain = delta.where(delta > 0, 0).ewm(span=n, adjust=False).mean()\n",
    "    loss = -delta.where(delta < 0, 0).ewm(span=n, adjust=False).mean()\n",
    "    rs = gain / loss\n",
    "    return 100 - (100 / (1 + rs))\n",
    "\n",
    "# 計算 MACD 和信號線\n",
    "def macd(data, short_window=12, long_window=26, signal_window=9):\n",
    "   # 計算 DI\n",
    "    DI = (data['high'] + data['low'] + 2 * data['close']) / 4\n",
    "    # 計算短期和長期 EMA\n",
    "    EMA_12 = DI.ewm(span=short_window, adjust=False).mean()\n",
    "    EMA_26 = DI.ewm(span=long_window, adjust=False).mean()\n",
    "    # 計算 DIF\n",
    "    DIF = EMA_12 - EMA_26\n",
    "    # 計算 MACD\n",
    "    MACD = DIF.ewm(span=signal_window, adjust=False).mean()\n",
    "    return MACD\n",
    "\n",
    "# 計算威廉指標 (WMS%R)\n",
    "def williams_r(data, high, low, n):\n",
    "    highest_high = high.rolling(window=n).max()\n",
    "    lowest_low = low.rolling(window=n).min()\n",
    "    return ((highest_high - data) / (highest_high - lowest_low)) * 100\n",
    "\n",
    "def generate_indicators(stock):\n",
    "    \n",
    "    stock['10MA'] = moving_average(stock['close'], 10)\n",
    "    stock['30MA'] = moving_average(stock['close'], 30)\n",
    "    stock['10BIAS'] = bias(stock['close'], stock['10MA'])\n",
    "    stock['30BIAS'] = bias(stock['close'], stock['30MA'])\n",
    "    stock['K'], stock['D'] = stochastic_oscillator(stock['close'], stock['high'], stock['low'], 9)\n",
    "    stock['RSI'] = rsi(stock['close'], 9)\n",
    "    stock['MACD']= macd(stock)\n",
    "    stock['WMS%R'] = williams_r(stock['close'], stock['high'], stock['low'], 14)\n",
    "    stock = stock.dropna().reset_index(drop=True)\n",
    "    return stock"
   ]
  },
  {
   "cell_type": "markdown",
   "metadata": {},
   "source": [
    "#### PLR 特徵提取"
   ]
  },
  {
   "cell_type": "code",
   "execution_count": 130,
   "metadata": {},
   "outputs": [],
   "source": [
    "# 定義節點類別\n",
    "class Node:\n",
    "    def __init__(self, x, y, start_idx, end_idx):\n",
    "        self.x = x\n",
    "        self.y = y\n",
    "        self.start_idx = start_idx\n",
    "        self.end_idx = end_idx\n",
    "        self.left = None\n",
    "        self.right = None"
   ]
  },
  {
   "cell_type": "code",
   "execution_count": 131,
   "metadata": {},
   "outputs": [],
   "source": [
    "# 計算點到直線的垂直距離\n",
    "def point_to_line_distance(x0, y0, x1, y1, x2, y2):\n",
    "    numerator = abs((y2 - y1)*x0 - (x2 - x1)*y0 + x2*y1 - y2*x1)\n",
    "    denominator = np.sqrt((y2 - y1)**2 + (x2 - x1)**2)\n",
    "    return numerator / (denominator + 1e-6)  # 加上極小值防止除以零"
   ]
  },
  {
   "cell_type": "code",
   "execution_count": 132,
   "metadata": {},
   "outputs": [],
   "source": [
    "# PLR 分段函數，遵循 BuildTree(S) 演算法\n",
    "def BuildTree(x, y, start_idx, end_idx, threshold):\n",
    "    # 建立當前節點\n",
    "    node = Node(x, y, start_idx, end_idx)\n",
    "\n",
    "    # 畫一條從起點到終點的直線\n",
    "    x1, y1 = x[start_idx], y[start_idx]\n",
    "    x2, y2 = x[end_idx], y[end_idx]\n",
    "\n",
    "    # 計算最大距離及其索引\n",
    "    max_distance = 0\n",
    "    index_of_max = start_idx\n",
    "    for i in range(start_idx + 1, end_idx):\n",
    "        distance = point_to_line_distance(x[i], y[i], x1, y1, x2, y2)\n",
    "        #print(i, x[i], y[i], distance)\n",
    "        if distance > max_distance:\n",
    "            max_distance = distance\n",
    "            index_of_max = i\n",
    "\n",
    "    # 判斷是否需要分割\n",
    "    if max_distance > threshold:\n",
    "        # 如果分割點的收盤價等於起點或終點的收盤價，則不分割\n",
    "        if y[index_of_max] == y[start_idx] or y[index_of_max] == y[end_idx]:\n",
    "            return node\n",
    "        # 分割為左右兩個子節點\n",
    "        node.left = BuildTree(x, y, start_idx, index_of_max, threshold)\n",
    "        node.right = BuildTree(x, y, index_of_max, end_idx, threshold)\n",
    "    return node"
   ]
  },
  {
   "cell_type": "code",
   "execution_count": 133,
   "metadata": {},
   "outputs": [],
   "source": [
    "# 遍歷樹，提取分段\n",
    "def get_segments(node, segments):\n",
    "    if node.left is None and node.right is None: # 判斷是不是葉節點\n",
    "        segments.append((node.start_idx, node.end_idx))\n",
    "    else:\n",
    "        if node.left:\n",
    "            get_segments(node.left, segments)\n",
    "        if node.right:\n",
    "            get_segments(node.right, segments)"
   ]
  },
  {
   "cell_type": "code",
   "execution_count": 134,
   "metadata": {},
   "outputs": [],
   "source": [
    "def PLR(stock):\n",
    "    # 準備數據\n",
    "    x = np.arange(len(stock))\n",
    "    y = stock['close'].values\n",
    "\n",
    "    # 設定閾值 δ\n",
    "    threshold = 4.0\n",
    "\n",
    "    # 建立 PLR 樹\n",
    "    root = BuildTree(x, y, 0, len(x) - 1, threshold)\n",
    "\n",
    "    # 獲取分段結果\n",
    "    segments = []\n",
    "    get_segments(root, segments)\n",
    "    return segments"
   ]
  },
  {
   "cell_type": "markdown",
   "metadata": {},
   "source": [
    "#### 提取特徵"
   ]
  },
  {
   "cell_type": "code",
   "execution_count": 135,
   "metadata": {},
   "outputs": [],
   "source": [
    "def get_features(segments, stock, x, y, threshold):\n",
    "    # 提取特徵並構建特徵矩陣\n",
    "    features = []\n",
    "    labels = []\n",
    "\n",
    "    previous_label = None  # 用於記錄前一個標籤\n",
    "\n",
    "    for i in range(len(segments) - 1):\n",
    "        start_idx, end_idx = segments[i]\n",
    "        next_start_idx, next_end_idx = segments[i + 1]\n",
    "\n",
    "        # 當前段的特徵\n",
    "        x_segment = x[start_idx:end_idx + 1]\n",
    "        y_segment = y[start_idx:end_idx + 1]\n",
    "        volume_segment = stock['volume'].values[start_idx:end_idx + 1]\n",
    "\n",
    "        # 計算斜率\n",
    "        slope = (y_segment[-1] - y_segment[0]) / (x_segment[-1] - x_segment[0] + 1e-6)\n",
    "\n",
    "        # 段長\n",
    "        length = end_idx - start_idx\n",
    "\n",
    "        # 中點價格\n",
    "        mid_price = y_segment[len(y_segment) // 2]\n",
    "\n",
    "        # 平均交易量\n",
    "        avg_volume = np.mean(volume_segment)\n",
    "\n",
    "        # 交易量變化\n",
    "        volume_change = (volume_segment[-1] - volume_segment[0]) / (volume_segment[0] + 1e-6)\n",
    "\n",
    "        # 技術指標\n",
    "        ma_10_segment = stock['10MA'].values[start_idx:end_idx + 1]\n",
    "        ma_30_segment = stock['30MA'].values[start_idx:end_idx + 1]\n",
    "        rsi_segment = stock['RSI'].values[start_idx:end_idx + 1]\n",
    "        macd_segment = stock['MACD'].values[start_idx:end_idx + 1]\n",
    "        wmsr_segment = stock['WMS%R'].values[start_idx:end_idx + 1]\n",
    "        bias_10_segment = stock['10BIAS'].values[start_idx:end_idx + 1]\n",
    "        bias_30_segment = stock['30BIAS'].values[start_idx:end_idx + 1]\n",
    "        k_segment = stock['K'].values[start_idx:end_idx + 1]\n",
    "        d_segment = stock['D'].values[start_idx:end_idx + 1]\n",
    "\n",
    "        # 技術指標特徵\n",
    "        ma_10_mean = np.mean(ma_10_segment)\n",
    "        ma_30_mean = np.mean(ma_30_segment)\n",
    "        ma_10_std = np.std(ma_10_segment)\n",
    "        ma_30_std = np.std(ma_30_segment)\n",
    "\n",
    "        rsi_mean = np.mean(rsi_segment)\n",
    "        macd_mean = np.mean(macd_segment)\n",
    "        wmsr_mean = np.mean(wmsr_segment)\n",
    "\n",
    "        bias_10_mean = np.mean(bias_10_segment)\n",
    "        bias_10_std = np.std(bias_10_segment)\n",
    "        bias_30_mean = np.mean(bias_30_segment)\n",
    "        bias_30_std = np.std(bias_30_segment)\n",
    "\n",
    "        k_mean = np.mean(k_segment)\n",
    "        d_mean = np.mean(d_segment)\n",
    "\n",
    "        # 標籤：預測線段價格是上升（1）還是下降（0）\n",
    "        # [0, 37], [37, 38] 這兩個線段是比較 37 和 38 這兩個位置的股價變化\n",
    "        next_y_segment = y[next_start_idx:next_end_idx + 1]\n",
    "        price_change = next_y_segment[-1] - next_y_segment[0]\n",
    "\n",
    "        label = -1\n",
    "\n",
    "        if price_change > threshold:\n",
    "            label = 1\n",
    "        elif price_change < -threshold:\n",
    "            label = 0\n",
    "        elif previous_label is not None:  # 當標籤為 -1 時，標記為與上一個有效標籤相同\n",
    "            label = previous_label\n",
    "\n",
    "        if label in [0, 1]:  # 只把滿足條件的片段當作訓練資料\n",
    "            features.append([\n",
    "                slope, length, mid_price, avg_volume, volume_change,\n",
    "                ma_10_mean, ma_30_mean, ma_10_std, ma_30_std,\n",
    "                rsi_mean, macd_mean, wmsr_mean,\n",
    "                bias_10_mean, bias_10_std, bias_30_mean, bias_30_std, k_mean, d_mean  # 新增的技術指標\n",
    "            ])\n",
    "            labels.append(label)\n",
    "\n",
    "            # 更新 previous_label\n",
    "            previous_label = label\n",
    "\n",
    "    # 轉換為 NumPy 數組\n",
    "    X = np.array(features)\n",
    "    y_labels = np.array(labels)\n",
    "    \n",
    "    return X, y_labels\n"
   ]
  },
  {
   "cell_type": "markdown",
   "metadata": {},
   "source": [
    "#### 模型結果"
   ]
  },
  {
   "cell_type": "code",
   "execution_count": 136,
   "metadata": {},
   "outputs": [],
   "source": [
    "def create_lstm_input(X, y, time_steps):\n",
    "    X_lstm = []\n",
    "    y_lstm = []\n",
    "    for i in range(len(X) - time_steps):\n",
    "        X_lstm.append(X[i:i+time_steps])\n",
    "        y_lstm.append(y[i+time_steps])\n",
    "        \n",
    "    return np.array(X_lstm), np.array(y_lstm)"
   ]
  },
  {
   "cell_type": "code",
   "execution_count": 137,
   "metadata": {},
   "outputs": [],
   "source": [
    "def run_model(X, y_labels, model):\n",
    "    X_test_lstm, y_test_lstm = create_lstm_input(X, y_labels, time_steps=2)\n",
    "    y_pred_prob = model.predict(X_test_lstm)\n",
    "    #print(y_pred_prob)\n",
    "    fpr, tpr, thresholds = roc_curve(y_test_lstm, y_pred_prob)\n",
    "    optimal_idx = np.argmax(tpr - fpr)\n",
    "    optimal_threshold = thresholds[optimal_idx]\n",
    "\n",
    "    y_pred = (y_pred_prob >= optimal_threshold).astype(int).flatten()\n",
    "\n",
    "    return y_pred"
   ]
  },
  {
   "cell_type": "markdown",
   "metadata": {},
   "source": [
    "#### 最終輸出畫面"
   ]
  },
  {
   "cell_type": "code",
   "execution_count": 138,
   "metadata": {},
   "outputs": [],
   "source": [
    "import base64\n",
    "import io"
   ]
  },
  {
   "cell_type": "code",
   "execution_count": 139,
   "metadata": {},
   "outputs": [],
   "source": [
    "def calculate_stock_cost(buy_price, quantity):\n",
    "\n",
    "    handling_fee = buy_price * quantity * 0.001425 * 2  # 手續費\n",
    "    transaction_tax = buy_price * quantity * 0.003  # 交易稅\n",
    "    total_cost = (buy_price * quantity) + handling_fee + transaction_tax\n",
    "    return total_cost\n",
    "\n",
    "def calculate_stock_profit(buy_price, sell_price, quantity):\n",
    "\n",
    "    total_cost = calculate_stock_cost(buy_price, quantity)\n",
    "    total_revenue = sell_price * quantity\n",
    "    profit = total_revenue - total_cost\n",
    "    return profit"
   ]
  },
  {
   "cell_type": "code",
   "execution_count": 140,
   "metadata": {},
   "outputs": [],
   "source": [
    "def get_result(y_pred, segments, stock, y):\n",
    "    total_profit = 0\n",
    "    buy_price = None\n",
    "    buy_points = []  # 買入點的時間和價格\n",
    "    sell_points = []  # 賣出點的時間和價格\n",
    "    start = 0\n",
    "    time_steps = 2\n",
    "    print(y_pred)\n",
    "    \n",
    "    # 計算獲利並記錄買賣點\n",
    "    for i in range(len(y_pred)):\n",
    "        if y_pred[i] == 1 and buy_price is None:  # 買入\n",
    "            if start == 0:\n",
    "                start = segments[i + time_steps][1]\n",
    "            buy_price = y[segments[i + time_steps][1]]\n",
    "            buy_points.append((segments[i + time_steps][1], buy_price))\n",
    "\n",
    "        elif y_pred[i] == 0 and buy_price is not None:  # 賣出\n",
    "            sell_price = y[segments[i + time_steps][1]]\n",
    "            sell_points.append((segments[i + time_steps][1], sell_price))\n",
    "\n",
    "            # 計算單次交易的成本與獲利\n",
    "            quantity = 100  # 假設買賣股數固定為 100 股\n",
    "            profit = calculate_stock_profit(buy_price, sell_price, quantity)\n",
    "            total_profit += profit\n",
    "            #print(f\"此次交易獲利: {profit:.2f} 元\")\n",
    "\n",
    "            # 重置買入價格\n",
    "            buy_price = None\n",
    "\n",
    "    # 提取買賣點數據\n",
    "    buy_times, buy_prices = zip(*buy_points) if buy_points else ([], [])\n",
    "    sell_times, sell_prices = zip(*sell_points) if sell_points else ([], [])\n",
    "\n",
    "    date = stock.iloc[start:]['date'].reset_index(drop=True)\n",
    "    y_range = y[start:]\n",
    "\n",
    "    # 繪製價格折線圖和買賣點\n",
    "    plt.figure(figsize=(12, 6))\n",
    "    plt.plot(date, y_range, label='Original Price', color='blue', linewidth=3) # 繪製價格折線圖\n",
    "\n",
    "    # 買入點\n",
    "    buy_dates = [date.iloc[buy_time - start] for buy_time in buy_times]\n",
    "    plt.scatter(buy_dates, buy_prices, color='green', label='buy', marker='^', s=100)\n",
    "\n",
    "    # 賣出點\n",
    "    sell_dates = [date.iloc[sell_time - start] for sell_time in sell_times]\n",
    "    plt.scatter(sell_dates, sell_prices, color='red', label='Sell', marker='v', s=100)\n",
    "\n",
    "    # 格式化 x 軸為日期\n",
    "    plt.gca().xaxis.set_major_locator(AutoDateLocator())  # 自動調整日期間隔\n",
    "\n",
    "    # 旋轉 x 軸標籤\n",
    "    plt.xticks(rotation=45)\n",
    "\n",
    "    # 添加圖例與標題\n",
    "    plt.xlabel('time index')\n",
    "    plt.ylabel('price')\n",
    "    plt.legend()\n",
    "    plt.grid(True)\n",
    "\n",
    "    #plt.show()\n",
    "    \n",
    "    # 將圖像保存到內存並轉換為 Base64\n",
    "    buf = io.BytesIO()\n",
    "    plt.savefig(buf, format='png')\n",
    "    buf.seek(0)\n",
    "    image_base64 = base64.b64encode(buf.getvalue()).decode('utf-8')\n",
    "    buf.close()\n",
    "    plt.close()\n",
    "\n",
    "    return image_base64, total_profit\n"
   ]
  },
  {
   "cell_type": "markdown",
   "metadata": {},
   "source": [
    "#### 後端"
   ]
  },
  {
   "cell_type": "code",
   "execution_count": 141,
   "metadata": {},
   "outputs": [
    {
     "name": "stdout",
     "output_type": "stream",
     "text": [
      " * Serving Flask app '__main__'\n",
      " * Debug mode: on\n"
     ]
    },
    {
     "name": "stderr",
     "output_type": "stream",
     "text": [
      "\u001b[31m\u001b[1mWARNING: This is a development server. Do not use it in a production deployment. Use a production WSGI server instead.\u001b[0m\n",
      " * Running on http://127.0.0.1:5000\n",
      "INFO:werkzeug:\u001b[31m\u001b[1mWARNING: This is a development server. Do not use it in a production deployment. Use a production WSGI server instead.\u001b[0m\n",
      " * Running on http://127.0.0.1:5000\n",
      "\u001b[33mPress CTRL+C to quit\u001b[0m\n",
      "INFO:werkzeug:\u001b[33mPress CTRL+C to quit\u001b[0m\n",
      "127.0.0.1 - - [10/Jan/2025 18:31:08] \"GET / HTTP/1.1\" 200 -\n",
      "INFO:werkzeug:127.0.0.1 - - [10/Jan/2025 18:31:08] \"GET / HTTP/1.1\" 200 -\n",
      "127.0.0.1 - - [10/Jan/2025 18:31:59] \"GET / HTTP/1.1\" 200 -\n",
      "INFO:werkzeug:127.0.0.1 - - [10/Jan/2025 18:31:59] \"GET / HTTP/1.1\" 200 -\n",
      "127.0.0.1 - - [10/Jan/2025 18:33:27] \"GET / HTTP/1.1\" 200 -\n",
      "INFO:werkzeug:127.0.0.1 - - [10/Jan/2025 18:33:27] \"GET / HTTP/1.1\" 200 -\n",
      "127.0.0.1 - - [10/Jan/2025 18:34:40] \"GET / HTTP/1.1\" 200 -\n",
      "INFO:werkzeug:127.0.0.1 - - [10/Jan/2025 18:34:40] \"GET / HTTP/1.1\" 200 -\n",
      "WARNING:absl:Compiled the loaded model, but the compiled metrics have yet to be built. `model.compile_metrics` will be empty until you train or evaluate the model.\n"
     ]
    },
    {
     "name": "stdout",
     "output_type": "stream",
     "text": [
      "[(0, 6), (6, 12), (12, 24), (24, 27), (27, 33), (33, 40), (40, 47), (47, 48), (48, 49), (49, 53), (53, 55), (55, 57), (57, 58), (58, 64), (64, 71), (71, 72), (72, 75), (75, 77), (77, 79), (79, 82), (82, 92), (92, 94), (94, 102), (102, 104), (104, 105), (105, 114), (114, 119), (119, 122), (122, 125), (125, 126), (126, 128), (128, 129), (129, 134), (134, 138), (138, 142), (142, 147), (147, 149), (149, 150), (150, 155), (155, 157), (157, 160), (160, 163)]\n",
      "\u001b[1m2/2\u001b[0m \u001b[32m━━━━━━━━━━━━━━━━━━━━\u001b[0m\u001b[37m\u001b[0m \u001b[1m0s\u001b[0m 72ms/step\n"
     ]
    },
    {
     "name": "stderr",
     "output_type": "stream",
     "text": [
      "127.0.0.1 - - [10/Jan/2025 18:35:02] \"POST /get_stock_data HTTP/1.1\" 200 -\n",
      "INFO:werkzeug:127.0.0.1 - - [10/Jan/2025 18:35:02] \"POST /get_stock_data HTTP/1.1\" 200 -\n"
     ]
    },
    {
     "name": "stdout",
     "output_type": "stream",
     "text": [
      "[1 1 1 0 0 1 1 1 0 1 1 0 0 0 0 1 1 1 0 1 1 1 1 1 0 1 1 1 0 1 1 1 1 0 1 1 0\n",
      " 0 1]\n"
     ]
    },
    {
     "name": "stderr",
     "output_type": "stream",
     "text": [
      "127.0.0.1 - - [10/Jan/2025 19:22:32] \"GET / HTTP/1.1\" 200 -\n",
      "INFO:werkzeug:127.0.0.1 - - [10/Jan/2025 19:22:32] \"GET / HTTP/1.1\" 200 -\n",
      "127.0.0.1 - - [10/Jan/2025 19:23:07] \"GET / HTTP/1.1\" 200 -\n",
      "INFO:werkzeug:127.0.0.1 - - [10/Jan/2025 19:23:07] \"GET / HTTP/1.1\" 200 -\n",
      "127.0.0.1 - - [10/Jan/2025 19:24:17] \"GET / HTTP/1.1\" 200 -\n",
      "INFO:werkzeug:127.0.0.1 - - [10/Jan/2025 19:24:17] \"GET / HTTP/1.1\" 200 -\n",
      "WARNING:absl:Compiled the loaded model, but the compiled metrics have yet to be built. `model.compile_metrics` will be empty until you train or evaluate the model.\n"
     ]
    },
    {
     "name": "stdout",
     "output_type": "stream",
     "text": [
      "[(0, 4), (4, 7), (7, 13), (13, 20), (20, 27), (27, 28), (28, 29), (29, 33), (33, 35), (35, 37), (37, 38), (38, 44), (44, 51), (51, 52), (52, 55), (55, 57), (57, 59), (59, 62), (62, 72), (72, 74), (74, 82), (82, 84), (84, 85), (85, 94), (94, 99), (99, 102), (102, 105), (105, 106), (106, 108), (108, 109), (109, 114), (114, 118), (118, 122), (122, 127), (127, 129), (129, 130), (130, 135), (135, 137), (137, 140), (140, 143)]\n",
      "\u001b[1m2/2\u001b[0m \u001b[32m━━━━━━━━━━━━━━━━━━━━\u001b[0m\u001b[37m\u001b[0m \u001b[1m0s\u001b[0m 69ms/step\n"
     ]
    },
    {
     "name": "stderr",
     "output_type": "stream",
     "text": [
      "127.0.0.1 - - [10/Jan/2025 19:24:35] \"POST /get_stock_data HTTP/1.1\" 200 -\n",
      "INFO:werkzeug:127.0.0.1 - - [10/Jan/2025 19:24:35] \"POST /get_stock_data HTTP/1.1\" 200 -\n"
     ]
    },
    {
     "name": "stdout",
     "output_type": "stream",
     "text": [
      "[1 0 0 1 1 1 0 1 1 0 0 0 0 1 1 1 0 1 1 1 1 1 0 1 1 1 0 1 1 1 1 0 1 1 0 0 1]\n"
     ]
    },
    {
     "name": "stderr",
     "output_type": "stream",
     "text": [
      "127.0.0.1 - - [10/Jan/2025 19:28:17] \"GET / HTTP/1.1\" 200 -\n",
      "INFO:werkzeug:127.0.0.1 - - [10/Jan/2025 19:28:17] \"GET / HTTP/1.1\" 200 -\n",
      "WARNING:absl:Compiled the loaded model, but the compiled metrics have yet to be built. `model.compile_metrics` will be empty until you train or evaluate the model.\n"
     ]
    },
    {
     "name": "stdout",
     "output_type": "stream",
     "text": [
      "[(0, 4), (4, 10), (10, 11), (11, 16), (16, 31), (31, 33), (33, 44), (44, 53), (53, 58), (58, 61), (61, 64), (64, 65), (65, 67), (67, 68), (68, 73), (73, 77), (77, 81), (81, 86), (86, 88), (88, 89), (89, 94), (94, 96), (96, 99), (99, 102)]\n",
      "\u001b[1m1/1\u001b[0m \u001b[32m━━━━━━━━━━━━━━━━━━━━\u001b[0m\u001b[37m\u001b[0m \u001b[1m0s\u001b[0m 71ms/step\n",
      "[0 1 1 0 1 1 0 1 1 0 0 1 1 1 1 0 1 1 0 0 1]\n"
     ]
    },
    {
     "name": "stderr",
     "output_type": "stream",
     "text": [
      "127.0.0.1 - - [10/Jan/2025 19:30:19] \"POST /get_stock_data HTTP/1.1\" 200 -\n",
      "INFO:werkzeug:127.0.0.1 - - [10/Jan/2025 19:30:19] \"POST /get_stock_data HTTP/1.1\" 200 -\n",
      "127.0.0.1 - - [10/Jan/2025 19:32:38] \"GET / HTTP/1.1\" 200 -\n",
      "INFO:werkzeug:127.0.0.1 - - [10/Jan/2025 19:32:38] \"GET / HTTP/1.1\" 200 -\n",
      "WARNING:absl:Compiled the loaded model, but the compiled metrics have yet to be built. `model.compile_metrics` will be empty until you train or evaluate the model.\n"
     ]
    },
    {
     "name": "stdout",
     "output_type": "stream",
     "text": [
      "[(0, 10), (10, 12), (12, 20), (20, 22), (22, 23), (23, 32), (32, 37), (37, 40), (40, 43), (43, 44), (44, 46), (46, 47), (47, 52), (52, 56), (56, 60), (60, 65), (65, 67), (67, 68), (68, 73), (73, 75), (75, 78), (78, 81)]\n",
      "\u001b[1m1/1\u001b[0m \u001b[32m━━━━━━━━━━━━━━━━━━━━\u001b[0m\u001b[37m\u001b[0m \u001b[1m0s\u001b[0m 71ms/step\n",
      "[1 1 1 1 0 1 1 1 0 1 1 1 1 0 1 1 0 0 1]\n"
     ]
    },
    {
     "name": "stderr",
     "output_type": "stream",
     "text": [
      "127.0.0.1 - - [10/Jan/2025 19:32:49] \"POST /get_stock_data HTTP/1.1\" 200 -\n",
      "INFO:werkzeug:127.0.0.1 - - [10/Jan/2025 19:32:49] \"POST /get_stock_data HTTP/1.1\" 200 -\n",
      "WARNING:absl:Compiled the loaded model, but the compiled metrics have yet to be built. `model.compile_metrics` will be empty until you train or evaluate the model.\n"
     ]
    },
    {
     "name": "stdout",
     "output_type": "stream",
     "text": [
      "[(0, 10), (10, 12), (12, 20), (20, 22), (22, 23), (23, 32), (32, 37), (37, 40), (40, 43), (43, 44), (44, 46), (46, 47), (47, 52), (52, 56), (56, 60), (60, 65), (65, 67), (67, 68), (68, 73), (73, 75), (75, 78), (78, 81)]\n",
      "\u001b[1m1/1\u001b[0m \u001b[32m━━━━━━━━━━━━━━━━━━━━\u001b[0m\u001b[37m\u001b[0m \u001b[1m0s\u001b[0m 66ms/step\n"
     ]
    },
    {
     "name": "stderr",
     "output_type": "stream",
     "text": [
      "127.0.0.1 - - [10/Jan/2025 19:32:51] \"POST /get_stock_data HTTP/1.1\" 200 -\n",
      "INFO:werkzeug:127.0.0.1 - - [10/Jan/2025 19:32:51] \"POST /get_stock_data HTTP/1.1\" 200 -\n"
     ]
    },
    {
     "name": "stdout",
     "output_type": "stream",
     "text": [
      "[1 1 1 1 0 1 1 1 0 1 1 1 1 0 1 1 0 0 1]\n"
     ]
    },
    {
     "name": "stderr",
     "output_type": "stream",
     "text": [
      "127.0.0.1 - - [10/Jan/2025 19:33:41] \"GET / HTTP/1.1\" 200 -\n",
      "INFO:werkzeug:127.0.0.1 - - [10/Jan/2025 19:33:41] \"GET / HTTP/1.1\" 200 -\n",
      "127.0.0.1 - - [10/Jan/2025 19:34:03] \"GET / HTTP/1.1\" 200 -\n",
      "INFO:werkzeug:127.0.0.1 - - [10/Jan/2025 19:34:03] \"GET / HTTP/1.1\" 200 -\n",
      "127.0.0.1 - - [10/Jan/2025 19:34:18] \"GET / HTTP/1.1\" 200 -\n",
      "INFO:werkzeug:127.0.0.1 - - [10/Jan/2025 19:34:18] \"GET / HTTP/1.1\" 200 -\n",
      "WARNING:absl:Compiled the loaded model, but the compiled metrics have yet to be built. `model.compile_metrics` will be empty until you train or evaluate the model.\n"
     ]
    },
    {
     "name": "stdout",
     "output_type": "stream",
     "text": [
      "[(0, 10), (10, 12), (12, 20), (20, 22), (22, 23), (23, 32), (32, 37), (37, 40), (40, 43), (43, 44), (44, 46), (46, 47), (47, 52), (52, 56), (56, 60), (60, 65), (65, 67), (67, 68), (68, 73), (73, 75), (75, 78), (78, 81)]\n",
      "\u001b[1m1/1\u001b[0m \u001b[32m━━━━━━━━━━━━━━━━━━━━\u001b[0m\u001b[37m\u001b[0m \u001b[1m0s\u001b[0m 69ms/step\n",
      "[1 1 1 1 0 1 1 1 0 1 1 1 1 0 1 1 0 0 1]\n"
     ]
    },
    {
     "name": "stderr",
     "output_type": "stream",
     "text": [
      "127.0.0.1 - - [10/Jan/2025 19:35:22] \"POST /get_stock_data HTTP/1.1\" 200 -\n",
      "INFO:werkzeug:127.0.0.1 - - [10/Jan/2025 19:35:22] \"POST /get_stock_data HTTP/1.1\" 200 -\n",
      "127.0.0.1 - - [10/Jan/2025 19:37:19] \"GET / HTTP/1.1\" 200 -\n",
      "INFO:werkzeug:127.0.0.1 - - [10/Jan/2025 19:37:19] \"GET / HTTP/1.1\" 200 -\n",
      "127.0.0.1 - - [10/Jan/2025 19:37:20] \"GET / HTTP/1.1\" 200 -\n",
      "INFO:werkzeug:127.0.0.1 - - [10/Jan/2025 19:37:20] \"GET / HTTP/1.1\" 200 -\n",
      "127.0.0.1 - - [10/Jan/2025 19:37:23] \"GET / HTTP/1.1\" 200 -\n",
      "INFO:werkzeug:127.0.0.1 - - [10/Jan/2025 19:37:23] \"GET / HTTP/1.1\" 200 -\n",
      "127.0.0.1 - - [10/Jan/2025 19:37:57] \"GET / HTTP/1.1\" 200 -\n",
      "INFO:werkzeug:127.0.0.1 - - [10/Jan/2025 19:37:57] \"GET / HTTP/1.1\" 200 -\n",
      "127.0.0.1 - - [10/Jan/2025 19:38:06] \"GET / HTTP/1.1\" 200 -\n",
      "INFO:werkzeug:127.0.0.1 - - [10/Jan/2025 19:38:06] \"GET / HTTP/1.1\" 200 -\n",
      "127.0.0.1 - - [10/Jan/2025 19:38:37] \"GET / HTTP/1.1\" 200 -\n",
      "INFO:werkzeug:127.0.0.1 - - [10/Jan/2025 19:38:37] \"GET / HTTP/1.1\" 200 -\n",
      "127.0.0.1 - - [10/Jan/2025 19:38:46] \"GET / HTTP/1.1\" 200 -\n",
      "INFO:werkzeug:127.0.0.1 - - [10/Jan/2025 19:38:46] \"GET / HTTP/1.1\" 200 -\n",
      "127.0.0.1 - - [10/Jan/2025 19:39:09] \"GET / HTTP/1.1\" 200 -\n",
      "INFO:werkzeug:127.0.0.1 - - [10/Jan/2025 19:39:09] \"GET / HTTP/1.1\" 200 -\n",
      "127.0.0.1 - - [10/Jan/2025 19:39:10] \"GET / HTTP/1.1\" 200 -\n",
      "INFO:werkzeug:127.0.0.1 - - [10/Jan/2025 19:39:10] \"GET / HTTP/1.1\" 200 -\n",
      "127.0.0.1 - - [10/Jan/2025 19:39:43] \"GET / HTTP/1.1\" 200 -\n",
      "INFO:werkzeug:127.0.0.1 - - [10/Jan/2025 19:39:43] \"GET / HTTP/1.1\" 200 -\n",
      "127.0.0.1 - - [10/Jan/2025 19:39:47] \"GET / HTTP/1.1\" 200 -\n",
      "INFO:werkzeug:127.0.0.1 - - [10/Jan/2025 19:39:47] \"GET / HTTP/1.1\" 200 -\n",
      "127.0.0.1 - - [10/Jan/2025 19:40:08] \"GET / HTTP/1.1\" 200 -\n",
      "INFO:werkzeug:127.0.0.1 - - [10/Jan/2025 19:40:08] \"GET / HTTP/1.1\" 200 -\n",
      "127.0.0.1 - - [10/Jan/2025 19:41:50] \"GET / HTTP/1.1\" 200 -\n",
      "INFO:werkzeug:127.0.0.1 - - [10/Jan/2025 19:41:50] \"GET / HTTP/1.1\" 200 -\n",
      "127.0.0.1 - - [10/Jan/2025 19:41:51] \"GET / HTTP/1.1\" 200 -\n",
      "INFO:werkzeug:127.0.0.1 - - [10/Jan/2025 19:41:51] \"GET / HTTP/1.1\" 200 -\n",
      "127.0.0.1 - - [10/Jan/2025 19:41:55] \"GET / HTTP/1.1\" 200 -\n",
      "INFO:werkzeug:127.0.0.1 - - [10/Jan/2025 19:41:55] \"GET / HTTP/1.1\" 200 -\n",
      "127.0.0.1 - - [10/Jan/2025 19:42:05] \"GET / HTTP/1.1\" 200 -\n",
      "INFO:werkzeug:127.0.0.1 - - [10/Jan/2025 19:42:05] \"GET / HTTP/1.1\" 200 -\n",
      "127.0.0.1 - - [10/Jan/2025 19:42:23] \"GET / HTTP/1.1\" 200 -\n",
      "INFO:werkzeug:127.0.0.1 - - [10/Jan/2025 19:42:23] \"GET / HTTP/1.1\" 200 -\n",
      "127.0.0.1 - - [10/Jan/2025 19:42:24] \"GET / HTTP/1.1\" 200 -\n",
      "INFO:werkzeug:127.0.0.1 - - [10/Jan/2025 19:42:24] \"GET / HTTP/1.1\" 200 -\n",
      "127.0.0.1 - - [10/Jan/2025 19:42:31] \"GET / HTTP/1.1\" 200 -\n",
      "INFO:werkzeug:127.0.0.1 - - [10/Jan/2025 19:42:31] \"GET / HTTP/1.1\" 200 -\n",
      "127.0.0.1 - - [10/Jan/2025 19:45:47] \"GET / HTTP/1.1\" 200 -\n",
      "INFO:werkzeug:127.0.0.1 - - [10/Jan/2025 19:45:47] \"GET / HTTP/1.1\" 200 -\n",
      "127.0.0.1 - - [10/Jan/2025 19:48:56] \"GET / HTTP/1.1\" 200 -\n",
      "INFO:werkzeug:127.0.0.1 - - [10/Jan/2025 19:48:56] \"GET / HTTP/1.1\" 200 -\n",
      "127.0.0.1 - - [10/Jan/2025 19:49:13] \"GET / HTTP/1.1\" 200 -\n",
      "INFO:werkzeug:127.0.0.1 - - [10/Jan/2025 19:49:13] \"GET / HTTP/1.1\" 200 -\n",
      "127.0.0.1 - - [10/Jan/2025 19:50:16] \"GET / HTTP/1.1\" 200 -\n",
      "INFO:werkzeug:127.0.0.1 - - [10/Jan/2025 19:50:16] \"GET / HTTP/1.1\" 200 -\n",
      "127.0.0.1 - - [10/Jan/2025 19:50:24] \"GET / HTTP/1.1\" 200 -\n",
      "INFO:werkzeug:127.0.0.1 - - [10/Jan/2025 19:50:24] \"GET / HTTP/1.1\" 200 -\n",
      "127.0.0.1 - - [10/Jan/2025 19:50:41] \"GET / HTTP/1.1\" 200 -\n",
      "INFO:werkzeug:127.0.0.1 - - [10/Jan/2025 19:50:41] \"GET / HTTP/1.1\" 200 -\n",
      "127.0.0.1 - - [10/Jan/2025 19:50:43] \"GET / HTTP/1.1\" 200 -\n",
      "INFO:werkzeug:127.0.0.1 - - [10/Jan/2025 19:50:43] \"GET / HTTP/1.1\" 200 -\n",
      "127.0.0.1 - - [10/Jan/2025 19:50:43] \"GET / HTTP/1.1\" 200 -\n",
      "INFO:werkzeug:127.0.0.1 - - [10/Jan/2025 19:50:43] \"GET / HTTP/1.1\" 200 -\n",
      "127.0.0.1 - - [10/Jan/2025 19:50:44] \"GET / HTTP/1.1\" 200 -\n",
      "INFO:werkzeug:127.0.0.1 - - [10/Jan/2025 19:50:44] \"GET / HTTP/1.1\" 200 -\n",
      "127.0.0.1 - - [10/Jan/2025 19:50:50] \"GET / HTTP/1.1\" 200 -\n",
      "INFO:werkzeug:127.0.0.1 - - [10/Jan/2025 19:50:50] \"GET / HTTP/1.1\" 200 -\n",
      "127.0.0.1 - - [10/Jan/2025 19:51:02] \"GET / HTTP/1.1\" 200 -\n",
      "INFO:werkzeug:127.0.0.1 - - [10/Jan/2025 19:51:02] \"GET / HTTP/1.1\" 200 -\n",
      "127.0.0.1 - - [10/Jan/2025 19:51:34] \"GET / HTTP/1.1\" 200 -\n",
      "INFO:werkzeug:127.0.0.1 - - [10/Jan/2025 19:51:34] \"GET / HTTP/1.1\" 200 -\n",
      "127.0.0.1 - - [10/Jan/2025 19:51:49] \"GET / HTTP/1.1\" 200 -\n",
      "INFO:werkzeug:127.0.0.1 - - [10/Jan/2025 19:51:49] \"GET / HTTP/1.1\" 200 -\n",
      "127.0.0.1 - - [10/Jan/2025 19:51:57] \"GET / HTTP/1.1\" 200 -\n",
      "INFO:werkzeug:127.0.0.1 - - [10/Jan/2025 19:51:57] \"GET / HTTP/1.1\" 200 -\n",
      "127.0.0.1 - - [10/Jan/2025 19:53:28] \"GET / HTTP/1.1\" 200 -\n",
      "INFO:werkzeug:127.0.0.1 - - [10/Jan/2025 19:53:28] \"GET / HTTP/1.1\" 200 -\n",
      "127.0.0.1 - - [10/Jan/2025 19:53:42] \"GET / HTTP/1.1\" 200 -\n",
      "INFO:werkzeug:127.0.0.1 - - [10/Jan/2025 19:53:42] \"GET / HTTP/1.1\" 200 -\n",
      "127.0.0.1 - - [10/Jan/2025 19:53:52] \"GET / HTTP/1.1\" 200 -\n",
      "INFO:werkzeug:127.0.0.1 - - [10/Jan/2025 19:53:52] \"GET / HTTP/1.1\" 200 -\n",
      "127.0.0.1 - - [10/Jan/2025 19:54:01] \"GET / HTTP/1.1\" 200 -\n",
      "INFO:werkzeug:127.0.0.1 - - [10/Jan/2025 19:54:01] \"GET / HTTP/1.1\" 200 -\n",
      "127.0.0.1 - - [10/Jan/2025 19:54:14] \"GET / HTTP/1.1\" 200 -\n",
      "INFO:werkzeug:127.0.0.1 - - [10/Jan/2025 19:54:14] \"GET / HTTP/1.1\" 200 -\n",
      "127.0.0.1 - - [10/Jan/2025 19:54:29] \"GET / HTTP/1.1\" 200 -\n",
      "INFO:werkzeug:127.0.0.1 - - [10/Jan/2025 19:54:29] \"GET / HTTP/1.1\" 200 -\n",
      "127.0.0.1 - - [10/Jan/2025 19:55:15] \"GET / HTTP/1.1\" 200 -\n",
      "INFO:werkzeug:127.0.0.1 - - [10/Jan/2025 19:55:15] \"GET / HTTP/1.1\" 200 -\n",
      "127.0.0.1 - - [10/Jan/2025 19:55:37] \"GET / HTTP/1.1\" 200 -\n",
      "INFO:werkzeug:127.0.0.1 - - [10/Jan/2025 19:55:37] \"GET / HTTP/1.1\" 200 -\n",
      "127.0.0.1 - - [10/Jan/2025 19:55:38] \"GET / HTTP/1.1\" 200 -\n",
      "INFO:werkzeug:127.0.0.1 - - [10/Jan/2025 19:55:38] \"GET / HTTP/1.1\" 200 -\n",
      "127.0.0.1 - - [10/Jan/2025 19:55:58] \"GET / HTTP/1.1\" 200 -\n",
      "INFO:werkzeug:127.0.0.1 - - [10/Jan/2025 19:55:58] \"GET / HTTP/1.1\" 200 -\n",
      "127.0.0.1 - - [10/Jan/2025 19:56:17] \"GET / HTTP/1.1\" 200 -\n",
      "INFO:werkzeug:127.0.0.1 - - [10/Jan/2025 19:56:17] \"GET / HTTP/1.1\" 200 -\n",
      "127.0.0.1 - - [10/Jan/2025 19:56:46] \"GET / HTTP/1.1\" 200 -\n",
      "INFO:werkzeug:127.0.0.1 - - [10/Jan/2025 19:56:46] \"GET / HTTP/1.1\" 200 -\n",
      "127.0.0.1 - - [10/Jan/2025 19:56:46] \"GET / HTTP/1.1\" 200 -\n",
      "INFO:werkzeug:127.0.0.1 - - [10/Jan/2025 19:56:46] \"GET / HTTP/1.1\" 200 -\n",
      "127.0.0.1 - - [10/Jan/2025 19:58:07] \"GET / HTTP/1.1\" 200 -\n",
      "INFO:werkzeug:127.0.0.1 - - [10/Jan/2025 19:58:07] \"GET / HTTP/1.1\" 200 -\n",
      "WARNING:absl:Compiled the loaded model, but the compiled metrics have yet to be built. `model.compile_metrics` will be empty until you train or evaluate the model.\n"
     ]
    },
    {
     "name": "stdout",
     "output_type": "stream",
     "text": [
      "[(0, 10), (10, 12), (12, 20), (20, 22), (22, 23), (23, 32), (32, 37), (37, 40), (40, 43), (43, 44), (44, 46), (46, 47), (47, 52), (52, 56), (56, 60), (60, 65), (65, 67), (67, 68), (68, 73), (73, 75), (75, 78), (78, 81)]\n",
      "\u001b[1m1/1\u001b[0m \u001b[32m━━━━━━━━━━━━━━━━━━━━\u001b[0m\u001b[37m\u001b[0m \u001b[1m0s\u001b[0m 132ms/step\n"
     ]
    },
    {
     "name": "stderr",
     "output_type": "stream",
     "text": [
      "127.0.0.1 - - [10/Jan/2025 19:58:29] \"POST /get_stock_data HTTP/1.1\" 200 -\n",
      "INFO:werkzeug:127.0.0.1 - - [10/Jan/2025 19:58:29] \"POST /get_stock_data HTTP/1.1\" 200 -\n"
     ]
    },
    {
     "name": "stdout",
     "output_type": "stream",
     "text": [
      "[1 1 1 1 0 1 1 1 0 1 1 1 1 0 1 1 0 0 1]\n"
     ]
    },
    {
     "name": "stderr",
     "output_type": "stream",
     "text": [
      "127.0.0.1 - - [10/Jan/2025 19:58:53] \"GET / HTTP/1.1\" 200 -\n",
      "INFO:werkzeug:127.0.0.1 - - [10/Jan/2025 19:58:53] \"GET / HTTP/1.1\" 200 -\n",
      "WARNING:absl:Compiled the loaded model, but the compiled metrics have yet to be built. `model.compile_metrics` will be empty until you train or evaluate the model.\n"
     ]
    },
    {
     "name": "stdout",
     "output_type": "stream",
     "text": [
      "[(0, 4), (4, 7), (7, 13), (13, 20), (20, 27), (27, 28), (28, 29), (29, 33), (33, 35), (35, 37), (37, 38), (38, 44), (44, 51), (51, 52), (52, 55), (55, 57), (57, 59), (59, 62), (62, 72), (72, 74), (74, 82), (82, 84), (84, 85), (85, 94), (94, 99), (99, 102), (102, 105), (105, 106), (106, 108), (108, 109), (109, 114), (114, 118), (118, 122), (122, 127), (127, 129), (129, 130), (130, 135), (135, 137), (137, 140), (140, 143)]\n",
      "\u001b[1m2/2\u001b[0m \u001b[32m━━━━━━━━━━━━━━━━━━━━\u001b[0m\u001b[37m\u001b[0m \u001b[1m0s\u001b[0m 72ms/step\n"
     ]
    },
    {
     "name": "stderr",
     "output_type": "stream",
     "text": [
      "127.0.0.1 - - [10/Jan/2025 19:59:13] \"POST /get_stock_data HTTP/1.1\" 200 -\n",
      "INFO:werkzeug:127.0.0.1 - - [10/Jan/2025 19:59:13] \"POST /get_stock_data HTTP/1.1\" 200 -\n"
     ]
    },
    {
     "name": "stdout",
     "output_type": "stream",
     "text": [
      "[1 0 0 1 1 1 0 1 1 0 0 0 0 1 1 1 0 1 1 1 1 1 0 1 1 1 0 1 1 1 1 0 1 1 0 0 1]\n"
     ]
    },
    {
     "name": "stderr",
     "output_type": "stream",
     "text": [
      "WARNING:absl:Compiled the loaded model, but the compiled metrics have yet to be built. `model.compile_metrics` will be empty until you train or evaluate the model.\n"
     ]
    },
    {
     "name": "stdout",
     "output_type": "stream",
     "text": [
      "[(0, 4), (4, 7), (7, 13), (13, 20), (20, 27), (27, 28), (28, 29), (29, 33), (33, 35), (35, 37), (37, 38), (38, 44), (44, 51), (51, 52), (52, 55), (55, 57), (57, 59), (59, 62), (62, 72), (72, 74), (74, 82), (82, 84), (84, 85), (85, 94), (94, 99), (99, 102), (102, 105), (105, 106), (106, 108), (108, 109), (109, 114), (114, 118), (118, 122), (122, 127), (127, 129), (129, 130), (130, 135), (135, 137), (137, 140), (140, 143)]\n",
      "\u001b[1m2/2\u001b[0m \u001b[32m━━━━━━━━━━━━━━━━━━━━\u001b[0m\u001b[37m\u001b[0m \u001b[1m0s\u001b[0m 68ms/step\n",
      "[1 0 0 1 1 1 0 1 1 0 0 0 0 1 1 1 0 1 1 1 1 1 0 1 1 1 0 1 1 1 1 0 1 1 0 0 1]\n"
     ]
    },
    {
     "name": "stderr",
     "output_type": "stream",
     "text": [
      "127.0.0.1 - - [10/Jan/2025 19:59:33] \"POST /get_stock_data HTTP/1.1\" 200 -\n",
      "INFO:werkzeug:127.0.0.1 - - [10/Jan/2025 19:59:33] \"POST /get_stock_data HTTP/1.1\" 200 -\n",
      "WARNING:absl:Compiled the loaded model, but the compiled metrics have yet to be built. `model.compile_metrics` will be empty until you train or evaluate the model.\n"
     ]
    },
    {
     "name": "stdout",
     "output_type": "stream",
     "text": [
      "[(0, 4), (4, 7), (7, 13), (13, 20), (20, 27), (27, 28), (28, 29), (29, 33), (33, 35), (35, 37), (37, 38), (38, 44), (44, 51), (51, 52), (52, 55), (55, 57), (57, 59), (59, 62), (62, 72), (72, 74), (74, 82), (82, 84), (84, 85), (85, 94), (94, 99), (99, 102), (102, 105), (105, 106), (106, 108), (108, 109), (109, 114), (114, 118), (118, 122), (122, 127), (127, 129), (129, 130), (130, 135), (135, 137), (137, 140), (140, 143)]\n",
      "\u001b[1m2/2\u001b[0m \u001b[32m━━━━━━━━━━━━━━━━━━━━\u001b[0m\u001b[37m\u001b[0m \u001b[1m0s\u001b[0m 66ms/step\n",
      "[1 0 0 1 1 1 0 1 1 0 0 0 0 1 1 1 0 1 1 1 1 1 0 1 1 1 0 1 1 1 1 0 1 1 0 0 1]\n"
     ]
    },
    {
     "name": "stderr",
     "output_type": "stream",
     "text": [
      "127.0.0.1 - - [10/Jan/2025 19:59:34] \"POST /get_stock_data HTTP/1.1\" 200 -\n",
      "INFO:werkzeug:127.0.0.1 - - [10/Jan/2025 19:59:34] \"POST /get_stock_data HTTP/1.1\" 200 -\n",
      "127.0.0.1 - - [10/Jan/2025 20:00:48] \"GET / HTTP/1.1\" 200 -\n",
      "INFO:werkzeug:127.0.0.1 - - [10/Jan/2025 20:00:48] \"GET / HTTP/1.1\" 200 -\n",
      "WARNING:absl:Compiled the loaded model, but the compiled metrics have yet to be built. `model.compile_metrics` will be empty until you train or evaluate the model.\n"
     ]
    },
    {
     "name": "stdout",
     "output_type": "stream",
     "text": [
      "[(0, 5), (5, 12), (12, 18), (18, 20), (20, 21), (21, 23), (23, 25), (25, 40), (40, 46), (46, 58), (58, 61), (61, 67), (67, 74), (74, 81), (81, 82), (82, 83), (83, 87), (87, 89), (89, 91), (91, 92), (92, 98), (98, 105), (105, 106), (106, 109), (109, 111), (111, 113), (113, 116), (116, 126), (126, 128), (128, 136), (136, 138), (138, 139), (139, 148), (148, 153), (153, 156), (156, 159), (159, 160), (160, 162), (162, 163), (163, 168), (168, 172), (172, 176), (176, 181), (181, 183), (183, 184), (184, 189), (189, 191), (191, 194), (194, 197)]\n",
      "\u001b[1m2/2\u001b[0m \u001b[32m━━━━━━━━━━━━━━━━━━━━\u001b[0m\u001b[37m\u001b[0m \u001b[1m0s\u001b[0m 77ms/step\n"
     ]
    },
    {
     "name": "stderr",
     "output_type": "stream",
     "text": [
      "127.0.0.1 - - [10/Jan/2025 20:01:01] \"POST /get_stock_data HTTP/1.1\" 200 -\n",
      "INFO:werkzeug:127.0.0.1 - - [10/Jan/2025 20:01:01] \"POST /get_stock_data HTTP/1.1\" 200 -\n"
     ]
    },
    {
     "name": "stdout",
     "output_type": "stream",
     "text": [
      "[1 1 0 0 0 1 0 1 1 1 0 0 1 1 1 0 1 1 0 0 0 0 1 1 1 0 1 1 0 1 1 0 1 1 0 0 1\n",
      " 1 1 1 0 1 1 0 0 1]\n"
     ]
    },
    {
     "name": "stderr",
     "output_type": "stream",
     "text": [
      "127.0.0.1 - - [10/Jan/2025 20:01:09] \"GET / HTTP/1.1\" 200 -\n",
      "INFO:werkzeug:127.0.0.1 - - [10/Jan/2025 20:01:09] \"GET / HTTP/1.1\" 200 -\n",
      "127.0.0.1 - - [10/Jan/2025 20:03:50] \"GET / HTTP/1.1\" 200 -\n",
      "INFO:werkzeug:127.0.0.1 - - [10/Jan/2025 20:03:50] \"GET / HTTP/1.1\" 200 -\n",
      "WARNING:absl:Compiled the loaded model, but the compiled metrics have yet to be built. `model.compile_metrics` will be empty until you train or evaluate the model.\n"
     ]
    },
    {
     "name": "stdout",
     "output_type": "stream",
     "text": [
      "[(0, 4), (4, 7), (7, 13), (13, 20), (20, 27), (27, 28), (28, 29), (29, 33), (33, 35), (35, 37), (37, 38), (38, 44), (44, 51), (51, 52), (52, 55), (55, 57), (57, 59), (59, 62), (62, 72), (72, 74), (74, 82), (82, 84), (84, 85), (85, 94), (94, 99), (99, 102), (102, 105), (105, 106), (106, 108), (108, 109), (109, 114), (114, 118), (118, 122), (122, 127), (127, 129), (129, 130), (130, 135), (135, 137), (137, 140), (140, 143)]\n",
      "\u001b[1m2/2\u001b[0m \u001b[32m━━━━━━━━━━━━━━━━━━━━\u001b[0m\u001b[37m\u001b[0m \u001b[1m0s\u001b[0m 70ms/step\n",
      "[1 0 0 1 1 1 0 1 1 0 0 0 0 1 1 1 0 1 1 1 1 1 0 1 1 1 0 1 1 1 1 0 1 1 0 0 1]\n"
     ]
    },
    {
     "name": "stderr",
     "output_type": "stream",
     "text": [
      "127.0.0.1 - - [10/Jan/2025 20:05:13] \"POST /get_stock_data HTTP/1.1\" 200 -\n",
      "INFO:werkzeug:127.0.0.1 - - [10/Jan/2025 20:05:13] \"POST /get_stock_data HTTP/1.1\" 200 -\n",
      "127.0.0.1 - - [10/Jan/2025 20:06:55] \"GET / HTTP/1.1\" 200 -\n",
      "INFO:werkzeug:127.0.0.1 - - [10/Jan/2025 20:06:55] \"GET / HTTP/1.1\" 200 -\n",
      "127.0.0.1 - - [10/Jan/2025 20:07:20] \"GET / HTTP/1.1\" 200 -\n",
      "INFO:werkzeug:127.0.0.1 - - [10/Jan/2025 20:07:20] \"GET / HTTP/1.1\" 200 -\n",
      "127.0.0.1 - - [10/Jan/2025 20:07:54] \"GET / HTTP/1.1\" 200 -\n",
      "INFO:werkzeug:127.0.0.1 - - [10/Jan/2025 20:07:54] \"GET / HTTP/1.1\" 200 -\n",
      "127.0.0.1 - - [10/Jan/2025 20:08:03] \"GET / HTTP/1.1\" 200 -\n",
      "INFO:werkzeug:127.0.0.1 - - [10/Jan/2025 20:08:03] \"GET / HTTP/1.1\" 200 -\n",
      "127.0.0.1 - - [10/Jan/2025 20:08:12] \"GET / HTTP/1.1\" 200 -\n",
      "INFO:werkzeug:127.0.0.1 - - [10/Jan/2025 20:08:12] \"GET / HTTP/1.1\" 200 -\n",
      "127.0.0.1 - - [10/Jan/2025 20:08:39] \"GET / HTTP/1.1\" 200 -\n",
      "INFO:werkzeug:127.0.0.1 - - [10/Jan/2025 20:08:39] \"GET / HTTP/1.1\" 200 -\n",
      "127.0.0.1 - - [10/Jan/2025 20:08:42] \"GET / HTTP/1.1\" 200 -\n",
      "INFO:werkzeug:127.0.0.1 - - [10/Jan/2025 20:08:42] \"GET / HTTP/1.1\" 200 -\n",
      "127.0.0.1 - - [10/Jan/2025 20:08:56] \"GET / HTTP/1.1\" 200 -\n",
      "INFO:werkzeug:127.0.0.1 - - [10/Jan/2025 20:08:56] \"GET / HTTP/1.1\" 200 -\n",
      "127.0.0.1 - - [10/Jan/2025 20:09:04] \"GET / HTTP/1.1\" 200 -\n",
      "INFO:werkzeug:127.0.0.1 - - [10/Jan/2025 20:09:04] \"GET / HTTP/1.1\" 200 -\n",
      "127.0.0.1 - - [10/Jan/2025 20:12:21] \"GET / HTTP/1.1\" 200 -\n",
      "INFO:werkzeug:127.0.0.1 - - [10/Jan/2025 20:12:21] \"GET / HTTP/1.1\" 200 -\n",
      "127.0.0.1 - - [10/Jan/2025 20:13:06] \"GET / HTTP/1.1\" 200 -\n",
      "INFO:werkzeug:127.0.0.1 - - [10/Jan/2025 20:13:06] \"GET / HTTP/1.1\" 200 -\n",
      "WARNING:absl:Compiled the loaded model, but the compiled metrics have yet to be built. `model.compile_metrics` will be empty until you train or evaluate the model.\n"
     ]
    },
    {
     "name": "stdout",
     "output_type": "stream",
     "text": [
      "[(0, 5), (5, 12), (12, 18), (18, 20), (20, 21), (21, 23), (23, 25), (25, 40), (40, 46), (46, 58), (58, 61), (61, 67), (67, 74), (74, 81), (81, 82), (82, 83), (83, 87), (87, 89), (89, 91), (91, 92), (92, 98), (98, 105), (105, 106), (106, 109), (109, 111), (111, 113), (113, 116), (116, 126), (126, 128), (128, 136), (136, 138), (138, 139), (139, 148), (148, 153), (153, 156), (156, 159), (159, 160), (160, 162), (162, 163), (163, 168), (168, 172), (172, 176), (176, 181), (181, 183), (183, 184), (184, 189), (189, 191), (191, 194), (194, 197)]\n",
      "\u001b[1m2/2\u001b[0m \u001b[32m━━━━━━━━━━━━━━━━━━━━\u001b[0m\u001b[37m\u001b[0m \u001b[1m0s\u001b[0m 71ms/step\n"
     ]
    },
    {
     "name": "stderr",
     "output_type": "stream",
     "text": [
      "127.0.0.1 - - [10/Jan/2025 20:13:32] \"POST /get_stock_data HTTP/1.1\" 200 -\n",
      "INFO:werkzeug:127.0.0.1 - - [10/Jan/2025 20:13:32] \"POST /get_stock_data HTTP/1.1\" 200 -\n"
     ]
    },
    {
     "name": "stdout",
     "output_type": "stream",
     "text": [
      "[1 1 0 0 0 1 0 1 1 1 0 0 1 1 1 0 1 1 0 0 0 0 1 1 1 0 1 1 0 1 1 0 1 1 0 0 1\n",
      " 1 1 1 0 1 1 0 0 1]\n"
     ]
    },
    {
     "name": "stderr",
     "output_type": "stream",
     "text": [
      "WARNING:absl:Compiled the loaded model, but the compiled metrics have yet to be built. `model.compile_metrics` will be empty until you train or evaluate the model.\n"
     ]
    },
    {
     "name": "stdout",
     "output_type": "stream",
     "text": [
      "[(0, 5), (5, 12), (12, 18), (18, 20), (20, 21), (21, 23), (23, 25), (25, 40), (40, 46), (46, 58), (58, 61), (61, 67), (67, 74), (74, 81), (81, 82), (82, 83), (83, 87), (87, 89), (89, 91), (91, 92), (92, 98), (98, 105), (105, 106), (106, 109), (109, 111), (111, 113), (113, 116), (116, 126), (126, 128), (128, 136), (136, 138), (138, 139), (139, 148), (148, 153), (153, 156), (156, 159), (159, 160), (160, 162), (162, 163), (163, 168), (168, 172), (172, 176), (176, 181), (181, 183), (183, 184), (184, 189), (189, 191), (191, 194), (194, 197)]\n",
      "\u001b[1m2/2\u001b[0m \u001b[32m━━━━━━━━━━━━━━━━━━━━\u001b[0m\u001b[37m\u001b[0m \u001b[1m0s\u001b[0m 66ms/step\n",
      "[1 1 0 0 0 1 0 1 1 1 0 0 1 1 1 0 1 1 0 0 0 0 1 1 1 0 1 1 0 1 1 0 1 1 0 0 1\n",
      " 1 1 1 0 1 1 0 0 1]\n"
     ]
    },
    {
     "name": "stderr",
     "output_type": "stream",
     "text": [
      "127.0.0.1 - - [10/Jan/2025 20:13:37] \"POST /get_stock_data HTTP/1.1\" 200 -\n",
      "INFO:werkzeug:127.0.0.1 - - [10/Jan/2025 20:13:37] \"POST /get_stock_data HTTP/1.1\" 200 -\n",
      "127.0.0.1 - - [10/Jan/2025 20:17:14] \"GET / HTTP/1.1\" 200 -\n",
      "INFO:werkzeug:127.0.0.1 - - [10/Jan/2025 20:17:14] \"GET / HTTP/1.1\" 200 -\n",
      "WARNING:absl:Compiled the loaded model, but the compiled metrics have yet to be built. `model.compile_metrics` will be empty until you train or evaluate the model.\n"
     ]
    },
    {
     "name": "stdout",
     "output_type": "stream",
     "text": [
      "[(0, 6), (6, 12), (12, 24), (24, 27), (27, 33), (33, 40), (40, 47), (47, 48), (48, 49), (49, 53), (53, 55), (55, 57), (57, 58), (58, 64), (64, 71), (71, 72), (72, 75), (75, 77), (77, 79), (79, 82), (82, 92), (92, 94), (94, 102), (102, 104), (104, 105), (105, 114), (114, 119), (119, 122), (122, 125), (125, 126), (126, 128), (128, 129), (129, 134), (134, 138), (138, 142), (142, 147), (147, 149), (149, 150), (150, 155), (155, 157), (157, 160), (160, 163)]\n",
      "\u001b[1m2/2\u001b[0m \u001b[32m━━━━━━━━━━━━━━━━━━━━\u001b[0m\u001b[37m\u001b[0m \u001b[1m0s\u001b[0m 69ms/step\n"
     ]
    },
    {
     "name": "stderr",
     "output_type": "stream",
     "text": [
      "127.0.0.1 - - [10/Jan/2025 20:17:34] \"POST /get_stock_data HTTP/1.1\" 200 -\n",
      "INFO:werkzeug:127.0.0.1 - - [10/Jan/2025 20:17:34] \"POST /get_stock_data HTTP/1.1\" 200 -\n"
     ]
    },
    {
     "name": "stdout",
     "output_type": "stream",
     "text": [
      "[1 1 1 0 0 1 1 1 0 1 1 0 0 0 0 1 1 1 0 1 1 1 1 1 0 1 1 1 0 1 1 1 1 0 1 1 0\n",
      " 0 1]\n"
     ]
    },
    {
     "name": "stderr",
     "output_type": "stream",
     "text": [
      "127.0.0.1 - - [10/Jan/2025 20:19:12] \"GET / HTTP/1.1\" 200 -\n",
      "INFO:werkzeug:127.0.0.1 - - [10/Jan/2025 20:19:12] \"GET / HTTP/1.1\" 200 -\n",
      "WARNING:absl:Compiled the loaded model, but the compiled metrics have yet to be built. `model.compile_metrics` will be empty until you train or evaluate the model.\n"
     ]
    },
    {
     "name": "stdout",
     "output_type": "stream",
     "text": [
      "[(0, 5), (5, 7), (7, 8), (8, 10), (10, 12), (12, 27), (27, 33), (33, 45), (45, 48), (48, 54), (54, 61), (61, 68), (68, 69), (69, 70), (70, 74), (74, 76), (76, 78), (78, 79), (79, 85), (85, 92), (92, 93), (93, 96), (96, 98), (98, 100), (100, 103), (103, 113), (113, 115), (115, 123), (123, 125), (125, 126), (126, 135), (135, 140), (140, 143), (143, 146), (146, 147), (147, 149), (149, 150), (150, 155), (155, 159), (159, 163), (163, 168), (168, 170), (170, 171), (171, 176), (176, 178), (178, 181), (181, 184)]\n",
      "\u001b[1m2/2\u001b[0m \u001b[32m━━━━━━━━━━━━━━━━━━━━\u001b[0m\u001b[37m\u001b[0m \u001b[1m0s\u001b[0m 72ms/step\n"
     ]
    },
    {
     "name": "stderr",
     "output_type": "stream",
     "text": [
      "127.0.0.1 - - [10/Jan/2025 20:19:27] \"POST /get_stock_data HTTP/1.1\" 200 -\n",
      "INFO:werkzeug:127.0.0.1 - - [10/Jan/2025 20:19:27] \"POST /get_stock_data HTTP/1.1\" 200 -\n"
     ]
    },
    {
     "name": "stdout",
     "output_type": "stream",
     "text": [
      "[0 0 0 1 0 1 1 1 0 0 1 1 1 0 1 1 0 0 0 0 1 1 1 0 1 1 0 1 1 0 1 1 0 0 1 1 1\n",
      " 1 0 1 1 0 0 1]\n"
     ]
    },
    {
     "name": "stderr",
     "output_type": "stream",
     "text": [
      "WARNING:absl:Compiled the loaded model, but the compiled metrics have yet to be built. `model.compile_metrics` will be empty until you train or evaluate the model.\n"
     ]
    },
    {
     "name": "stdout",
     "output_type": "stream",
     "text": [
      "[(0, 5), (5, 7), (7, 8), (8, 10), (10, 12), (12, 27), (27, 33), (33, 45), (45, 48), (48, 54), (54, 61), (61, 68), (68, 69), (69, 70), (70, 74), (74, 76), (76, 78), (78, 79), (79, 85), (85, 92), (92, 93), (93, 96), (96, 98), (98, 100), (100, 103), (103, 113), (113, 115), (115, 123), (123, 125), (125, 126), (126, 135), (135, 140), (140, 143), (143, 146), (146, 147), (147, 149), (149, 150), (150, 155), (155, 159), (159, 163), (163, 168), (168, 170), (170, 171), (171, 176), (176, 178), (178, 181), (181, 184)]\n",
      "\u001b[1m2/2\u001b[0m \u001b[32m━━━━━━━━━━━━━━━━━━━━\u001b[0m\u001b[37m\u001b[0m \u001b[1m0s\u001b[0m 68ms/step\n"
     ]
    },
    {
     "name": "stderr",
     "output_type": "stream",
     "text": [
      "127.0.0.1 - - [10/Jan/2025 20:20:02] \"POST /get_stock_data HTTP/1.1\" 200 -\n",
      "INFO:werkzeug:127.0.0.1 - - [10/Jan/2025 20:20:02] \"POST /get_stock_data HTTP/1.1\" 200 -\n"
     ]
    },
    {
     "name": "stdout",
     "output_type": "stream",
     "text": [
      "[0 0 0 1 0 1 1 1 0 0 1 1 1 0 1 1 0 0 0 0 1 1 1 0 1 1 0 1 1 0 1 1 0 0 1 1 1\n",
      " 1 0 1 1 0 0 1]\n"
     ]
    },
    {
     "name": "stderr",
     "output_type": "stream",
     "text": [
      "127.0.0.1 - - [10/Jan/2025 20:20:05] \"GET / HTTP/1.1\" 200 -\n",
      "INFO:werkzeug:127.0.0.1 - - [10/Jan/2025 20:20:05] \"GET / HTTP/1.1\" 200 -\n",
      "WARNING:absl:Compiled the loaded model, but the compiled metrics have yet to be built. `model.compile_metrics` will be empty until you train or evaluate the model.\n"
     ]
    },
    {
     "name": "stdout",
     "output_type": "stream",
     "text": [
      "[(0, 4), (4, 7), (7, 13), (13, 20), (20, 27), (27, 28), (28, 29), (29, 33), (33, 35), (35, 37), (37, 38), (38, 44), (44, 51), (51, 52), (52, 55), (55, 57), (57, 59), (59, 62), (62, 72), (72, 74), (74, 82), (82, 84), (84, 85), (85, 94), (94, 99), (99, 102), (102, 105), (105, 106), (106, 108), (108, 109), (109, 114), (114, 118), (118, 122), (122, 127), (127, 129), (129, 130), (130, 135), (135, 137), (137, 140), (140, 143)]\n",
      "\u001b[1m2/2\u001b[0m \u001b[32m━━━━━━━━━━━━━━━━━━━━\u001b[0m\u001b[37m\u001b[0m \u001b[1m0s\u001b[0m 70ms/step\n",
      "[1 0 0 1 1 1 0 1 1 0 0 0 0 1 1 1 0 1 1 1 1 1 0 1 1 1 0 1 1 1 1 0 1 1 0 0 1]\n"
     ]
    },
    {
     "name": "stderr",
     "output_type": "stream",
     "text": [
      "127.0.0.1 - - [10/Jan/2025 20:20:22] \"POST /get_stock_data HTTP/1.1\" 200 -\n",
      "INFO:werkzeug:127.0.0.1 - - [10/Jan/2025 20:20:22] \"POST /get_stock_data HTTP/1.1\" 200 -\n",
      "127.0.0.1 - - [10/Jan/2025 20:22:06] \"GET / HTTP/1.1\" 200 -\n",
      "INFO:werkzeug:127.0.0.1 - - [10/Jan/2025 20:22:06] \"GET / HTTP/1.1\" 200 -\n",
      "WARNING:absl:Compiled the loaded model, but the compiled metrics have yet to be built. `model.compile_metrics` will be empty until you train or evaluate the model.\n"
     ]
    },
    {
     "name": "stdout",
     "output_type": "stream",
     "text": [
      "[(0, 7), (7, 11), (11, 13), (13, 15), (15, 16), (16, 22), (22, 29), (29, 30), (30, 33), (33, 35), (35, 37), (37, 40), (40, 50), (50, 52), (52, 60), (60, 62), (62, 63), (63, 72), (72, 77), (77, 80), (80, 83), (83, 84), (84, 86), (86, 87), (87, 92), (92, 96), (96, 100), (100, 105), (105, 107), (107, 108), (108, 113), (113, 115), (115, 118), (118, 121)]\n",
      "\u001b[1m1/1\u001b[0m \u001b[32m━━━━━━━━━━━━━━━━━━━━\u001b[0m\u001b[37m\u001b[0m \u001b[1m0s\u001b[0m 70ms/step\n",
      "[0 1 1 0 0 0 0 1 1 1 0 1 1 1 1 1 0 1 1 1 0 1 1 1 1 0 1 1 0 0 1]\n"
     ]
    },
    {
     "name": "stderr",
     "output_type": "stream",
     "text": [
      "127.0.0.1 - - [10/Jan/2025 20:22:19] \"POST /get_stock_data HTTP/1.1\" 200 -\n",
      "INFO:werkzeug:127.0.0.1 - - [10/Jan/2025 20:22:19] \"POST /get_stock_data HTTP/1.1\" 200 -\n",
      "127.0.0.1 - - [10/Jan/2025 20:24:33] \"GET / HTTP/1.1\" 200 -\n",
      "INFO:werkzeug:127.0.0.1 - - [10/Jan/2025 20:24:33] \"GET / HTTP/1.1\" 200 -\n",
      "WARNING:absl:Compiled the loaded model, but the compiled metrics have yet to be built. `model.compile_metrics` will be empty until you train or evaluate the model.\n"
     ]
    },
    {
     "name": "stdout",
     "output_type": "stream",
     "text": [
      "[(0, 5), (5, 7), (7, 8), (8, 10), (10, 12), (12, 27), (27, 33), (33, 45), (45, 48), (48, 54), (54, 61), (61, 68), (68, 69), (69, 70), (70, 74), (74, 76), (76, 78), (78, 79), (79, 85), (85, 92), (92, 93), (93, 96), (96, 98), (98, 100), (100, 103), (103, 113), (113, 115), (115, 123), (123, 125), (125, 126), (126, 135), (135, 140), (140, 143), (143, 146), (146, 147), (147, 149), (149, 150), (150, 155), (155, 177)]\n",
      "\u001b[1m2/2\u001b[0m \u001b[32m━━━━━━━━━━━━━━━━━━━━\u001b[0m\u001b[37m\u001b[0m \u001b[1m0s\u001b[0m 74ms/step\n"
     ]
    },
    {
     "name": "stderr",
     "output_type": "stream",
     "text": [
      "127.0.0.1 - - [10/Jan/2025 20:24:48] \"POST /get_stock_data HTTP/1.1\" 200 -\n",
      "INFO:werkzeug:127.0.0.1 - - [10/Jan/2025 20:24:48] \"POST /get_stock_data HTTP/1.1\" 200 -\n"
     ]
    },
    {
     "name": "stdout",
     "output_type": "stream",
     "text": [
      "[0 0 1 1 0 1 1 1 0 1 1 1 1 0 1 1 0 0 0 1 1 1 1 0 1 1 1 1 1 0 1 1 1 0 1 1]\n"
     ]
    },
    {
     "name": "stderr",
     "output_type": "stream",
     "text": [
      "127.0.0.1 - - [10/Jan/2025 20:25:29] \"GET / HTTP/1.1\" 200 -\n",
      "INFO:werkzeug:127.0.0.1 - - [10/Jan/2025 20:25:29] \"GET / HTTP/1.1\" 200 -\n",
      "127.0.0.1 - - [10/Jan/2025 20:25:55] \"GET / HTTP/1.1\" 200 -\n",
      "INFO:werkzeug:127.0.0.1 - - [10/Jan/2025 20:25:55] \"GET / HTTP/1.1\" 200 -\n",
      "127.0.0.1 - - [10/Jan/2025 20:26:11] \"GET / HTTP/1.1\" 200 -\n",
      "INFO:werkzeug:127.0.0.1 - - [10/Jan/2025 20:26:11] \"GET / HTTP/1.1\" 200 -\n",
      "127.0.0.1 - - [10/Jan/2025 20:26:29] \"GET / HTTP/1.1\" 200 -\n",
      "INFO:werkzeug:127.0.0.1 - - [10/Jan/2025 20:26:29] \"GET / HTTP/1.1\" 200 -\n",
      "127.0.0.1 - - [10/Jan/2025 20:26:30] \"GET / HTTP/1.1\" 200 -\n",
      "INFO:werkzeug:127.0.0.1 - - [10/Jan/2025 20:26:30] \"GET / HTTP/1.1\" 200 -\n",
      "WARNING:absl:Compiled the loaded model, but the compiled metrics have yet to be built. `model.compile_metrics` will be empty until you train or evaluate the model.\n"
     ]
    },
    {
     "name": "stdout",
     "output_type": "stream",
     "text": [
      "[(0, 10), (10, 12), (12, 20), (20, 22), (22, 23), (23, 32), (32, 37), (37, 40), (40, 43), (43, 44), (44, 46), (46, 47), (47, 52), (52, 56), (56, 60), (60, 65), (65, 67), (67, 68), (68, 73), (73, 75), (75, 78), (78, 81)]\n",
      "\u001b[1m1/1\u001b[0m \u001b[32m━━━━━━━━━━━━━━━━━━━━\u001b[0m\u001b[37m\u001b[0m \u001b[1m0s\u001b[0m 74ms/step\n",
      "[1 1 1 1 0 1 1 1 0 1 1 1 1 0 1 1 0 0 1]\n"
     ]
    },
    {
     "name": "stderr",
     "output_type": "stream",
     "text": [
      "127.0.0.1 - - [10/Jan/2025 20:27:41] \"POST /get_stock_data HTTP/1.1\" 200 -\n",
      "INFO:werkzeug:127.0.0.1 - - [10/Jan/2025 20:27:41] \"POST /get_stock_data HTTP/1.1\" 200 -\n",
      "127.0.0.1 - - [10/Jan/2025 20:28:15] \"GET / HTTP/1.1\" 200 -\n",
      "INFO:werkzeug:127.0.0.1 - - [10/Jan/2025 20:28:15] \"GET / HTTP/1.1\" 200 -\n",
      "WARNING:absl:Compiled the loaded model, but the compiled metrics have yet to be built. `model.compile_metrics` will be empty until you train or evaluate the model.\n"
     ]
    },
    {
     "name": "stdout",
     "output_type": "stream",
     "text": [
      "[(0, 5), (5, 7), (7, 8), (8, 10), (10, 12), (12, 27), (27, 33), (33, 45), (45, 48), (48, 54), (54, 61), (61, 68), (68, 69), (69, 70), (70, 74), (74, 76), (76, 78), (78, 79), (79, 85), (85, 92), (92, 93), (93, 96), (96, 98), (98, 100), (100, 103), (103, 113), (113, 115), (115, 123), (123, 125), (125, 126), (126, 135), (135, 140), (140, 143), (143, 146), (146, 147), (147, 149), (149, 150), (150, 155), (155, 159), (159, 163), (163, 168), (168, 170), (170, 171), (171, 176), (176, 178), (178, 181), (181, 184)]\n",
      "\u001b[1m2/2\u001b[0m \u001b[32m━━━━━━━━━━━━━━━━━━━━\u001b[0m\u001b[37m\u001b[0m \u001b[1m0s\u001b[0m 72ms/step\n"
     ]
    },
    {
     "name": "stderr",
     "output_type": "stream",
     "text": [
      "127.0.0.1 - - [10/Jan/2025 20:28:31] \"POST /get_stock_data HTTP/1.1\" 200 -\n",
      "INFO:werkzeug:127.0.0.1 - - [10/Jan/2025 20:28:31] \"POST /get_stock_data HTTP/1.1\" 200 -\n"
     ]
    },
    {
     "name": "stdout",
     "output_type": "stream",
     "text": [
      "[0 0 0 1 0 1 1 1 0 0 1 1 1 0 1 1 0 0 0 0 1 1 1 0 1 1 0 1 1 0 1 1 0 0 1 1 1\n",
      " 1 0 1 1 0 0 1]\n"
     ]
    },
    {
     "name": "stderr",
     "output_type": "stream",
     "text": [
      "127.0.0.1 - - [10/Jan/2025 20:30:49] \"GET / HTTP/1.1\" 200 -\n",
      "INFO:werkzeug:127.0.0.1 - - [10/Jan/2025 20:30:49] \"GET / HTTP/1.1\" 200 -\n",
      "127.0.0.1 - - [10/Jan/2025 20:30:53] \"GET / HTTP/1.1\" 200 -\n",
      "INFO:werkzeug:127.0.0.1 - - [10/Jan/2025 20:30:53] \"GET / HTTP/1.1\" 200 -\n",
      "127.0.0.1 - - [10/Jan/2025 20:32:01] \"GET / HTTP/1.1\" 200 -\n",
      "INFO:werkzeug:127.0.0.1 - - [10/Jan/2025 20:32:01] \"GET / HTTP/1.1\" 200 -\n",
      "127.0.0.1 - - [10/Jan/2025 20:32:10] \"GET / HTTP/1.1\" 200 -\n",
      "INFO:werkzeug:127.0.0.1 - - [10/Jan/2025 20:32:10] \"GET / HTTP/1.1\" 200 -\n",
      "127.0.0.1 - - [10/Jan/2025 20:32:32] \"GET / HTTP/1.1\" 200 -\n",
      "INFO:werkzeug:127.0.0.1 - - [10/Jan/2025 20:32:32] \"GET / HTTP/1.1\" 200 -\n",
      "WARNING:absl:Compiled the loaded model, but the compiled metrics have yet to be built. `model.compile_metrics` will be empty until you train or evaluate the model.\n"
     ]
    },
    {
     "name": "stdout",
     "output_type": "stream",
     "text": [
      "[(0, 7), (7, 11), (11, 13), (13, 15), (15, 16), (16, 22), (22, 29), (29, 30), (30, 33), (33, 35), (35, 37), (37, 40), (40, 50), (50, 52), (52, 60), (60, 62), (62, 63), (63, 72), (72, 77), (77, 80), (80, 83), (83, 84), (84, 86), (86, 87), (87, 92), (92, 96), (96, 100), (100, 105), (105, 107), (107, 108), (108, 113), (113, 115), (115, 118), (118, 121)]\n",
      "\u001b[1m1/1\u001b[0m \u001b[32m━━━━━━━━━━━━━━━━━━━━\u001b[0m\u001b[37m\u001b[0m \u001b[1m0s\u001b[0m 70ms/step\n",
      "[0 1 1 0 0 0 0 1 1 1 0 1 1 1 1 1 0 1 1 1 0 1 1 1 1 0 1 1 0 0 1]\n"
     ]
    },
    {
     "name": "stderr",
     "output_type": "stream",
     "text": [
      "127.0.0.1 - - [10/Jan/2025 20:32:46] \"POST /get_stock_data HTTP/1.1\" 200 -\n",
      "INFO:werkzeug:127.0.0.1 - - [10/Jan/2025 20:32:46] \"POST /get_stock_data HTTP/1.1\" 200 -\n",
      "127.0.0.1 - - [10/Jan/2025 20:33:18] \"GET / HTTP/1.1\" 200 -\n",
      "INFO:werkzeug:127.0.0.1 - - [10/Jan/2025 20:33:18] \"GET / HTTP/1.1\" 200 -\n",
      "WARNING:absl:Compiled the loaded model, but the compiled metrics have yet to be built. `model.compile_metrics` will be empty until you train or evaluate the model.\n"
     ]
    },
    {
     "name": "stdout",
     "output_type": "stream",
     "text": [
      "[(0, 10), (10, 12), (12, 20), (20, 22), (22, 23), (23, 32), (32, 37), (37, 40), (40, 43), (43, 44), (44, 46), (46, 47), (47, 52), (52, 56), (56, 60), (60, 65), (65, 67), (67, 68), (68, 73), (73, 75), (75, 78), (78, 81)]\n",
      "\u001b[1m1/1\u001b[0m \u001b[32m━━━━━━━━━━━━━━━━━━━━\u001b[0m\u001b[37m\u001b[0m \u001b[1m0s\u001b[0m 69ms/step\n"
     ]
    },
    {
     "name": "stderr",
     "output_type": "stream",
     "text": [
      "127.0.0.1 - - [10/Jan/2025 20:33:25] \"POST /get_stock_data HTTP/1.1\" 200 -\n",
      "INFO:werkzeug:127.0.0.1 - - [10/Jan/2025 20:33:25] \"POST /get_stock_data HTTP/1.1\" 200 -\n"
     ]
    },
    {
     "name": "stdout",
     "output_type": "stream",
     "text": [
      "[1 1 1 1 0 1 1 1 0 1 1 1 1 0 1 1 0 0 1]\n"
     ]
    },
    {
     "name": "stderr",
     "output_type": "stream",
     "text": [
      "127.0.0.1 - - [10/Jan/2025 20:33:52] \"GET / HTTP/1.1\" 200 -\n",
      "INFO:werkzeug:127.0.0.1 - - [10/Jan/2025 20:33:52] \"GET / HTTP/1.1\" 200 -\n",
      "WARNING:absl:Compiled the loaded model, but the compiled metrics have yet to be built. `model.compile_metrics` will be empty until you train or evaluate the model.\n"
     ]
    },
    {
     "name": "stdout",
     "output_type": "stream",
     "text": [
      "[(0, 4), (4, 10), (10, 11), (11, 16), (16, 31), (31, 33), (33, 44), (44, 53), (53, 58), (58, 61), (61, 64), (64, 65), (65, 67), (67, 68), (68, 73), (73, 77), (77, 81), (81, 86), (86, 88), (88, 89), (89, 94), (94, 96), (96, 99), (99, 102)]\n",
      "\u001b[1m1/1\u001b[0m \u001b[32m━━━━━━━━━━━━━━━━━━━━\u001b[0m\u001b[37m\u001b[0m \u001b[1m0s\u001b[0m 72ms/step\n",
      "[0 1 1 0 1 1 0 1 1 0 0 1 1 1 1 0 1 1 0 0 1]\n"
     ]
    },
    {
     "name": "stderr",
     "output_type": "stream",
     "text": [
      "127.0.0.1 - - [10/Jan/2025 20:34:00] \"POST /get_stock_data HTTP/1.1\" 200 -\n",
      "INFO:werkzeug:127.0.0.1 - - [10/Jan/2025 20:34:00] \"POST /get_stock_data HTTP/1.1\" 200 -\n",
      "127.0.0.1 - - [10/Jan/2025 20:36:04] \"GET / HTTP/1.1\" 200 -\n",
      "INFO:werkzeug:127.0.0.1 - - [10/Jan/2025 20:36:04] \"GET / HTTP/1.1\" 200 -\n",
      "WARNING:absl:Compiled the loaded model, but the compiled metrics have yet to be built. `model.compile_metrics` will be empty until you train or evaluate the model.\n"
     ]
    },
    {
     "name": "stdout",
     "output_type": "stream",
     "text": [
      "[(0, 10), (10, 12), (12, 20), (20, 22), (22, 23), (23, 32), (32, 37), (37, 40), (40, 43), (43, 44), (44, 46), (46, 47), (47, 52), (52, 56), (56, 60), (60, 65), (65, 67), (67, 68), (68, 73), (73, 75), (75, 78), (78, 81)]\n",
      "\u001b[1m1/1\u001b[0m \u001b[32m━━━━━━━━━━━━━━━━━━━━\u001b[0m\u001b[37m\u001b[0m \u001b[1m0s\u001b[0m 72ms/step\n",
      "[1 1 1 1 0 1 1 1 0 1 1 1 1 0 1 1 0 0 1]\n"
     ]
    },
    {
     "name": "stderr",
     "output_type": "stream",
     "text": [
      "127.0.0.1 - - [10/Jan/2025 20:36:11] \"POST /get_stock_data HTTP/1.1\" 200 -\n",
      "INFO:werkzeug:127.0.0.1 - - [10/Jan/2025 20:36:11] \"POST /get_stock_data HTTP/1.1\" 200 -\n",
      "127.0.0.1 - - [10/Jan/2025 20:36:30] \"GET / HTTP/1.1\" 200 -\n",
      "INFO:werkzeug:127.0.0.1 - - [10/Jan/2025 20:36:30] \"GET / HTTP/1.1\" 200 -\n",
      "WARNING:absl:Compiled the loaded model, but the compiled metrics have yet to be built. `model.compile_metrics` will be empty until you train or evaluate the model.\n"
     ]
    },
    {
     "name": "stdout",
     "output_type": "stream",
     "text": [
      "[(0, 4), (4, 10), (10, 11), (11, 16), (16, 31), (31, 33), (33, 44), (44, 53), (53, 58), (58, 61), (61, 64), (64, 65), (65, 67), (67, 68), (68, 73), (73, 77), (77, 81), (81, 86), (86, 88), (88, 89), (89, 94), (94, 96), (96, 99), (99, 102)]\n",
      "\u001b[1m1/1\u001b[0m \u001b[32m━━━━━━━━━━━━━━━━━━━━\u001b[0m\u001b[37m\u001b[0m \u001b[1m0s\u001b[0m 71ms/step\n",
      "[0 1 1 0 1 1 0 1 1 0 0 1 1 1 1 0 1 1 0 0 1]\n"
     ]
    },
    {
     "name": "stderr",
     "output_type": "stream",
     "text": [
      "127.0.0.1 - - [10/Jan/2025 20:36:43] \"POST /get_stock_data HTTP/1.1\" 200 -\n",
      "INFO:werkzeug:127.0.0.1 - - [10/Jan/2025 20:36:43] \"POST /get_stock_data HTTP/1.1\" 200 -\n",
      "127.0.0.1 - - [10/Jan/2025 20:37:04] \"GET / HTTP/1.1\" 200 -\n",
      "INFO:werkzeug:127.0.0.1 - - [10/Jan/2025 20:37:04] \"GET / HTTP/1.1\" 200 -\n",
      "WARNING:absl:Compiled the loaded model, but the compiled metrics have yet to be built. `model.compile_metrics` will be empty until you train or evaluate the model.\n"
     ]
    },
    {
     "name": "stdout",
     "output_type": "stream",
     "text": [
      "[(0, 4), (4, 10), (10, 11), (11, 16), (16, 31), (31, 33), (33, 44), (44, 53), (53, 58), (58, 61), (61, 64), (64, 65), (65, 67), (67, 68), (68, 73), (73, 77), (77, 81), (81, 86), (86, 88), (88, 89), (89, 94), (94, 96), (96, 99), (99, 102)]\n",
      "\u001b[1m1/1\u001b[0m \u001b[32m━━━━━━━━━━━━━━━━━━━━\u001b[0m\u001b[37m\u001b[0m \u001b[1m0s\u001b[0m 332ms/step\n"
     ]
    },
    {
     "name": "stderr",
     "output_type": "stream",
     "text": [
      "127.0.0.1 - - [10/Jan/2025 20:37:14] \"POST /get_stock_data HTTP/1.1\" 200 -\n",
      "INFO:werkzeug:127.0.0.1 - - [10/Jan/2025 20:37:14] \"POST /get_stock_data HTTP/1.1\" 200 -\n"
     ]
    },
    {
     "name": "stdout",
     "output_type": "stream",
     "text": [
      "[0 1 1 0 1 1 0 1 1 0 0 1 1 1 1 0 1 1 0 0 1]\n"
     ]
    },
    {
     "name": "stderr",
     "output_type": "stream",
     "text": [
      "127.0.0.1 - - [10/Jan/2025 20:37:49] \"GET / HTTP/1.1\" 200 -\n",
      "INFO:werkzeug:127.0.0.1 - - [10/Jan/2025 20:37:49] \"GET / HTTP/1.1\" 200 -\n",
      "WARNING:absl:Compiled the loaded model, but the compiled metrics have yet to be built. `model.compile_metrics` will be empty until you train or evaluate the model.\n"
     ]
    },
    {
     "name": "stdout",
     "output_type": "stream",
     "text": [
      "[(0, 4), (4, 10), (10, 11), (11, 16), (16, 31), (31, 33), (33, 44), (44, 53), (53, 58), (58, 61), (61, 64), (64, 65), (65, 67), (67, 68), (68, 73), (73, 77), (77, 81), (81, 86), (86, 88), (88, 89), (89, 94), (94, 96), (96, 99), (99, 102)]\n",
      "\u001b[1m1/1\u001b[0m \u001b[32m━━━━━━━━━━━━━━━━━━━━\u001b[0m\u001b[37m\u001b[0m \u001b[1m0s\u001b[0m 70ms/step\n",
      "[0 1 1 0 1 1 0 1 1 0 0 1 1 1 1 0 1 1 0 0 1]\n"
     ]
    },
    {
     "name": "stderr",
     "output_type": "stream",
     "text": [
      "127.0.0.1 - - [10/Jan/2025 20:37:59] \"POST /get_stock_data HTTP/1.1\" 200 -\n",
      "INFO:werkzeug:127.0.0.1 - - [10/Jan/2025 20:37:59] \"POST /get_stock_data HTTP/1.1\" 200 -\n",
      "127.0.0.1 - - [10/Jan/2025 20:38:58] \"GET / HTTP/1.1\" 200 -\n",
      "INFO:werkzeug:127.0.0.1 - - [10/Jan/2025 20:38:58] \"GET / HTTP/1.1\" 200 -\n",
      "WARNING:absl:Compiled the loaded model, but the compiled metrics have yet to be built. `model.compile_metrics` will be empty until you train or evaluate the model.\n"
     ]
    },
    {
     "name": "stdout",
     "output_type": "stream",
     "text": [
      "[(0, 10), (10, 12), (12, 20), (20, 22), (22, 23), (23, 32), (32, 37), (37, 40), (40, 43), (43, 44), (44, 46), (46, 47), (47, 52), (52, 56), (56, 60), (60, 65), (65, 67), (67, 68), (68, 73), (73, 75), (75, 78), (78, 81)]\n",
      "\u001b[1m1/1\u001b[0m \u001b[32m━━━━━━━━━━━━━━━━━━━━\u001b[0m\u001b[37m\u001b[0m \u001b[1m0s\u001b[0m 70ms/step\n",
      "[1 1 1 1 0 1 1 1 0 1 1 1 1 0 1 1 0 0 1]\n"
     ]
    },
    {
     "name": "stderr",
     "output_type": "stream",
     "text": [
      "127.0.0.1 - - [10/Jan/2025 20:39:07] \"POST /get_stock_data HTTP/1.1\" 200 -\n",
      "INFO:werkzeug:127.0.0.1 - - [10/Jan/2025 20:39:07] \"POST /get_stock_data HTTP/1.1\" 200 -\n",
      "127.0.0.1 - - [10/Jan/2025 20:39:38] \"GET / HTTP/1.1\" 200 -\n",
      "INFO:werkzeug:127.0.0.1 - - [10/Jan/2025 20:39:38] \"GET / HTTP/1.1\" 200 -\n",
      "WARNING:absl:Compiled the loaded model, but the compiled metrics have yet to be built. `model.compile_metrics` will be empty until you train or evaluate the model.\n"
     ]
    },
    {
     "name": "stdout",
     "output_type": "stream",
     "text": [
      "[(0, 4), (4, 10), (10, 11), (11, 16), (16, 31), (31, 33), (33, 44), (44, 53), (53, 58), (58, 61), (61, 64), (64, 65), (65, 67), (67, 68), (68, 73), (73, 77), (77, 81), (81, 86), (86, 88), (88, 89), (89, 94), (94, 96), (96, 99), (99, 102)]\n",
      "\u001b[1m1/1\u001b[0m \u001b[32m━━━━━━━━━━━━━━━━━━━━\u001b[0m\u001b[37m\u001b[0m \u001b[1m0s\u001b[0m 72ms/step\n",
      "[0 1 1 0 1 1 0 1 1 0 0 1 1 1 1 0 1 1 0 0 1]\n"
     ]
    },
    {
     "name": "stderr",
     "output_type": "stream",
     "text": [
      "127.0.0.1 - - [10/Jan/2025 20:39:47] \"POST /get_stock_data HTTP/1.1\" 200 -\n",
      "INFO:werkzeug:127.0.0.1 - - [10/Jan/2025 20:39:47] \"POST /get_stock_data HTTP/1.1\" 200 -\n",
      "WARNING:absl:Compiled the loaded model, but the compiled metrics have yet to be built. `model.compile_metrics` will be empty until you train or evaluate the model.\n"
     ]
    },
    {
     "name": "stdout",
     "output_type": "stream",
     "text": [
      "[(0, 4), (4, 10), (10, 11), (11, 16), (16, 31), (31, 33), (33, 44), (44, 53), (53, 58), (58, 61), (61, 64), (64, 65), (65, 67), (67, 68), (68, 73), (73, 77), (77, 81), (81, 86), (86, 88), (88, 89), (89, 94), (94, 96), (96, 99), (99, 102)]\n",
      "\u001b[1m1/1\u001b[0m \u001b[32m━━━━━━━━━━━━━━━━━━━━\u001b[0m\u001b[37m\u001b[0m \u001b[1m0s\u001b[0m 71ms/step\n",
      "[0 1 1 0 1 1 0 1 1 0 0 1 1 1 1 0 1 1 0 0 1]\n"
     ]
    },
    {
     "name": "stderr",
     "output_type": "stream",
     "text": [
      "127.0.0.1 - - [10/Jan/2025 20:40:03] \"POST /get_stock_data HTTP/1.1\" 200 -\n",
      "INFO:werkzeug:127.0.0.1 - - [10/Jan/2025 20:40:03] \"POST /get_stock_data HTTP/1.1\" 200 -\n",
      "127.0.0.1 - - [10/Jan/2025 20:40:07] \"GET / HTTP/1.1\" 200 -\n",
      "INFO:werkzeug:127.0.0.1 - - [10/Jan/2025 20:40:07] \"GET / HTTP/1.1\" 200 -\n",
      "WARNING:absl:Compiled the loaded model, but the compiled metrics have yet to be built. `model.compile_metrics` will be empty until you train or evaluate the model.\n"
     ]
    },
    {
     "name": "stdout",
     "output_type": "stream",
     "text": [
      "[(0, 10), (10, 12), (12, 20), (20, 22), (22, 23), (23, 32), (32, 37), (37, 40), (40, 43), (43, 44), (44, 46), (46, 47), (47, 52), (52, 56), (56, 60), (60, 65), (65, 67), (67, 68), (68, 73), (73, 75), (75, 78), (78, 81)]\n",
      "\u001b[1m1/1\u001b[0m \u001b[32m━━━━━━━━━━━━━━━━━━━━\u001b[0m\u001b[37m\u001b[0m \u001b[1m0s\u001b[0m 70ms/step\n"
     ]
    },
    {
     "name": "stderr",
     "output_type": "stream",
     "text": [
      "127.0.0.1 - - [10/Jan/2025 20:40:16] \"POST /get_stock_data HTTP/1.1\" 200 -\n",
      "INFO:werkzeug:127.0.0.1 - - [10/Jan/2025 20:40:16] \"POST /get_stock_data HTTP/1.1\" 200 -\n"
     ]
    },
    {
     "name": "stdout",
     "output_type": "stream",
     "text": [
      "[1 1 1 1 0 1 1 1 0 1 1 1 1 0 1 1 0 0 1]\n"
     ]
    },
    {
     "name": "stderr",
     "output_type": "stream",
     "text": [
      "127.0.0.1 - - [10/Jan/2025 20:40:37] \"GET / HTTP/1.1\" 200 -\n",
      "INFO:werkzeug:127.0.0.1 - - [10/Jan/2025 20:40:37] \"GET / HTTP/1.1\" 200 -\n",
      "WARNING:absl:Compiled the loaded model, but the compiled metrics have yet to be built. `model.compile_metrics` will be empty until you train or evaluate the model.\n"
     ]
    },
    {
     "name": "stdout",
     "output_type": "stream",
     "text": [
      "[(0, 7), (7, 11), (11, 13), (13, 15), (15, 16), (16, 22), (22, 29), (29, 30), (30, 33), (33, 35), (35, 37), (37, 40), (40, 50), (50, 52), (52, 60), (60, 62), (62, 63), (63, 72), (72, 77), (77, 80), (80, 83), (83, 84), (84, 86), (86, 87), (87, 92), (92, 96), (96, 100), (100, 105), (105, 107), (107, 108), (108, 113), (113, 115), (115, 118), (118, 121)]\n",
      "\u001b[1m1/1\u001b[0m \u001b[32m━━━━━━━━━━━━━━━━━━━━\u001b[0m\u001b[37m\u001b[0m \u001b[1m0s\u001b[0m 77ms/step\n",
      "[0 1 1 0 0 0 0 1 1 1 0 1 1 1 1 1 0 1 1 1 0 1 1 1 1 0 1 1 0 0 1]\n"
     ]
    },
    {
     "name": "stderr",
     "output_type": "stream",
     "text": [
      "127.0.0.1 - - [10/Jan/2025 20:40:48] \"POST /get_stock_data HTTP/1.1\" 200 -\n",
      "INFO:werkzeug:127.0.0.1 - - [10/Jan/2025 20:40:48] \"POST /get_stock_data HTTP/1.1\" 200 -\n",
      "127.0.0.1 - - [10/Jan/2025 20:41:49] \"GET / HTTP/1.1\" 200 -\n",
      "INFO:werkzeug:127.0.0.1 - - [10/Jan/2025 20:41:49] \"GET / HTTP/1.1\" 200 -\n",
      "WARNING:absl:Compiled the loaded model, but the compiled metrics have yet to be built. `model.compile_metrics` will be empty until you train or evaluate the model.\n"
     ]
    },
    {
     "name": "stdout",
     "output_type": "stream",
     "text": [
      "[(0, 4), (4, 7), (7, 13), (13, 20), (20, 27), (27, 28), (28, 29), (29, 33), (33, 35), (35, 37), (37, 38), (38, 44), (44, 51), (51, 52), (52, 55), (55, 57), (57, 59), (59, 62), (62, 72), (72, 74), (74, 82), (82, 84), (84, 85), (85, 94), (94, 99), (99, 102), (102, 105), (105, 106), (106, 108), (108, 109), (109, 114), (114, 118), (118, 122), (122, 127), (127, 129), (129, 130), (130, 135), (135, 137), (137, 140), (140, 143)]\n",
      "\u001b[1m2/2\u001b[0m \u001b[32m━━━━━━━━━━━━━━━━━━━━\u001b[0m\u001b[37m\u001b[0m \u001b[1m0s\u001b[0m 75ms/step\n"
     ]
    },
    {
     "name": "stderr",
     "output_type": "stream",
     "text": [
      "127.0.0.1 - - [10/Jan/2025 20:42:00] \"POST /get_stock_data HTTP/1.1\" 200 -\n",
      "INFO:werkzeug:127.0.0.1 - - [10/Jan/2025 20:42:00] \"POST /get_stock_data HTTP/1.1\" 200 -\n"
     ]
    },
    {
     "name": "stdout",
     "output_type": "stream",
     "text": [
      "[1 0 0 1 1 1 0 1 1 0 0 0 0 1 1 1 0 1 1 1 1 1 0 1 1 1 0 1 1 1 1 0 1 1 0 0 1]\n"
     ]
    },
    {
     "name": "stderr",
     "output_type": "stream",
     "text": [
      "127.0.0.1 - - [10/Jan/2025 20:42:32] \"GET / HTTP/1.1\" 200 -\n",
      "INFO:werkzeug:127.0.0.1 - - [10/Jan/2025 20:42:32] \"GET / HTTP/1.1\" 200 -\n",
      "127.0.0.1 - - [10/Jan/2025 20:42:44] \"GET / HTTP/1.1\" 200 -\n",
      "INFO:werkzeug:127.0.0.1 - - [10/Jan/2025 20:42:44] \"GET / HTTP/1.1\" 200 -\n",
      "127.0.0.1 - - [10/Jan/2025 20:44:49] \"GET / HTTP/1.1\" 200 -\n",
      "INFO:werkzeug:127.0.0.1 - - [10/Jan/2025 20:44:49] \"GET / HTTP/1.1\" 200 -\n",
      "127.0.0.1 - - [10/Jan/2025 20:44:54] \"GET / HTTP/1.1\" 200 -\n",
      "INFO:werkzeug:127.0.0.1 - - [10/Jan/2025 20:44:54] \"GET / HTTP/1.1\" 200 -\n",
      "127.0.0.1 - - [10/Jan/2025 20:44:55] \"GET / HTTP/1.1\" 200 -\n",
      "INFO:werkzeug:127.0.0.1 - - [10/Jan/2025 20:44:55] \"GET / HTTP/1.1\" 200 -\n",
      "127.0.0.1 - - [10/Jan/2025 20:45:44] \"GET / HTTP/1.1\" 200 -\n",
      "INFO:werkzeug:127.0.0.1 - - [10/Jan/2025 20:45:44] \"GET / HTTP/1.1\" 200 -\n",
      "127.0.0.1 - - [10/Jan/2025 20:45:59] \"GET / HTTP/1.1\" 200 -\n",
      "INFO:werkzeug:127.0.0.1 - - [10/Jan/2025 20:45:59] \"GET / HTTP/1.1\" 200 -\n",
      "127.0.0.1 - - [10/Jan/2025 20:47:44] \"GET / HTTP/1.1\" 200 -\n",
      "INFO:werkzeug:127.0.0.1 - - [10/Jan/2025 20:47:44] \"GET / HTTP/1.1\" 200 -\n",
      "127.0.0.1 - - [10/Jan/2025 20:47:53] \"GET / HTTP/1.1\" 200 -\n",
      "INFO:werkzeug:127.0.0.1 - - [10/Jan/2025 20:47:53] \"GET / HTTP/1.1\" 200 -\n",
      "127.0.0.1 - - [10/Jan/2025 20:47:54] \"GET / HTTP/1.1\" 200 -\n",
      "INFO:werkzeug:127.0.0.1 - - [10/Jan/2025 20:47:54] \"GET / HTTP/1.1\" 200 -\n",
      "127.0.0.1 - - [10/Jan/2025 20:48:07] \"GET / HTTP/1.1\" 200 -\n",
      "INFO:werkzeug:127.0.0.1 - - [10/Jan/2025 20:48:07] \"GET / HTTP/1.1\" 200 -\n",
      "WARNING:absl:Compiled the loaded model, but the compiled metrics have yet to be built. `model.compile_metrics` will be empty until you train or evaluate the model.\n"
     ]
    },
    {
     "name": "stdout",
     "output_type": "stream",
     "text": [
      "[(0, 5), (5, 7), (7, 8), (8, 10), (10, 12), (12, 27), (27, 33), (33, 45), (45, 48), (48, 54), (54, 61), (61, 68), (68, 69), (69, 70), (70, 74), (74, 76), (76, 78), (78, 79), (79, 85), (85, 92), (92, 93), (93, 96), (96, 98), (98, 100), (100, 103), (103, 113), (113, 115), (115, 123), (123, 125), (125, 126), (126, 135), (135, 140), (140, 143), (143, 146), (146, 147), (147, 149), (149, 150), (150, 155), (155, 159), (159, 163), (163, 168), (168, 170), (170, 171), (171, 176), (176, 178), (178, 181), (181, 184)]\n",
      "\u001b[1m2/2\u001b[0m \u001b[32m━━━━━━━━━━━━━━━━━━━━\u001b[0m\u001b[37m\u001b[0m \u001b[1m0s\u001b[0m 72ms/step\n"
     ]
    },
    {
     "name": "stderr",
     "output_type": "stream",
     "text": [
      "127.0.0.1 - - [10/Jan/2025 20:48:45] \"POST /get_stock_data HTTP/1.1\" 200 -\n",
      "INFO:werkzeug:127.0.0.1 - - [10/Jan/2025 20:48:45] \"POST /get_stock_data HTTP/1.1\" 200 -\n"
     ]
    },
    {
     "name": "stdout",
     "output_type": "stream",
     "text": [
      "[0 0 0 1 0 1 1 1 0 0 1 1 1 0 1 1 0 0 0 0 1 1 1 0 1 1 0 1 1 0 1 1 0 0 1 1 1\n",
      " 1 0 1 1 0 0 1]\n"
     ]
    },
    {
     "name": "stderr",
     "output_type": "stream",
     "text": [
      "127.0.0.1 - - [10/Jan/2025 20:50:12] \"GET / HTTP/1.1\" 200 -\n",
      "INFO:werkzeug:127.0.0.1 - - [10/Jan/2025 20:50:12] \"GET / HTTP/1.1\" 200 -\n",
      "127.0.0.1 - - [10/Jan/2025 20:50:28] \"GET / HTTP/1.1\" 200 -\n",
      "INFO:werkzeug:127.0.0.1 - - [10/Jan/2025 20:50:28] \"GET / HTTP/1.1\" 200 -\n",
      "127.0.0.1 - - [10/Jan/2025 20:50:58] \"GET / HTTP/1.1\" 200 -\n",
      "INFO:werkzeug:127.0.0.1 - - [10/Jan/2025 20:50:58] \"GET / HTTP/1.1\" 200 -\n",
      "127.0.0.1 - - [10/Jan/2025 20:51:20] \"GET / HTTP/1.1\" 200 -\n",
      "INFO:werkzeug:127.0.0.1 - - [10/Jan/2025 20:51:20] \"GET / HTTP/1.1\" 200 -\n",
      "127.0.0.1 - - [10/Jan/2025 20:51:34] \"GET / HTTP/1.1\" 200 -\n",
      "INFO:werkzeug:127.0.0.1 - - [10/Jan/2025 20:51:34] \"GET / HTTP/1.1\" 200 -\n",
      "127.0.0.1 - - [10/Jan/2025 20:53:26] \"GET / HTTP/1.1\" 200 -\n",
      "INFO:werkzeug:127.0.0.1 - - [10/Jan/2025 20:53:26] \"GET / HTTP/1.1\" 200 -\n",
      "127.0.0.1 - - [10/Jan/2025 20:53:37] \"GET / HTTP/1.1\" 200 -\n",
      "INFO:werkzeug:127.0.0.1 - - [10/Jan/2025 20:53:37] \"GET / HTTP/1.1\" 200 -\n",
      "127.0.0.1 - - [10/Jan/2025 20:54:13] \"GET / HTTP/1.1\" 200 -\n",
      "INFO:werkzeug:127.0.0.1 - - [10/Jan/2025 20:54:13] \"GET / HTTP/1.1\" 200 -\n",
      "127.0.0.1 - - [10/Jan/2025 20:55:57] \"GET / HTTP/1.1\" 200 -\n",
      "INFO:werkzeug:127.0.0.1 - - [10/Jan/2025 20:55:57] \"GET / HTTP/1.1\" 200 -\n",
      "127.0.0.1 - - [10/Jan/2025 20:56:40] \"GET / HTTP/1.1\" 200 -\n",
      "INFO:werkzeug:127.0.0.1 - - [10/Jan/2025 20:56:40] \"GET / HTTP/1.1\" 200 -\n",
      "127.0.0.1 - - [10/Jan/2025 20:56:56] \"GET / HTTP/1.1\" 200 -\n",
      "INFO:werkzeug:127.0.0.1 - - [10/Jan/2025 20:56:56] \"GET / HTTP/1.1\" 200 -\n",
      "127.0.0.1 - - [10/Jan/2025 21:03:14] \"GET / HTTP/1.1\" 200 -\n",
      "INFO:werkzeug:127.0.0.1 - - [10/Jan/2025 21:03:14] \"GET / HTTP/1.1\" 200 -\n",
      "127.0.0.1 - - [10/Jan/2025 21:03:25] \"GET / HTTP/1.1\" 200 -\n",
      "INFO:werkzeug:127.0.0.1 - - [10/Jan/2025 21:03:25] \"GET / HTTP/1.1\" 200 -\n",
      "127.0.0.1 - - [10/Jan/2025 21:03:58] \"GET / HTTP/1.1\" 200 -\n",
      "INFO:werkzeug:127.0.0.1 - - [10/Jan/2025 21:03:58] \"GET / HTTP/1.1\" 200 -\n",
      "127.0.0.1 - - [10/Jan/2025 21:04:32] \"GET / HTTP/1.1\" 200 -\n",
      "INFO:werkzeug:127.0.0.1 - - [10/Jan/2025 21:04:32] \"GET / HTTP/1.1\" 200 -\n",
      "127.0.0.1 - - [10/Jan/2025 21:04:58] \"GET / HTTP/1.1\" 200 -\n",
      "INFO:werkzeug:127.0.0.1 - - [10/Jan/2025 21:04:58] \"GET / HTTP/1.1\" 200 -\n",
      "127.0.0.1 - - [10/Jan/2025 21:05:50] \"GET / HTTP/1.1\" 200 -\n",
      "INFO:werkzeug:127.0.0.1 - - [10/Jan/2025 21:05:50] \"GET / HTTP/1.1\" 200 -\n",
      "127.0.0.1 - - [10/Jan/2025 21:06:38] \"GET / HTTP/1.1\" 200 -\n",
      "INFO:werkzeug:127.0.0.1 - - [10/Jan/2025 21:06:38] \"GET / HTTP/1.1\" 200 -\n",
      "127.0.0.1 - - [10/Jan/2025 21:06:56] \"GET / HTTP/1.1\" 200 -\n",
      "INFO:werkzeug:127.0.0.1 - - [10/Jan/2025 21:06:56] \"GET / HTTP/1.1\" 200 -\n",
      "127.0.0.1 - - [10/Jan/2025 21:07:27] \"GET / HTTP/1.1\" 200 -\n",
      "INFO:werkzeug:127.0.0.1 - - [10/Jan/2025 21:07:27] \"GET / HTTP/1.1\" 200 -\n",
      "127.0.0.1 - - [10/Jan/2025 21:07:47] \"GET / HTTP/1.1\" 200 -\n",
      "INFO:werkzeug:127.0.0.1 - - [10/Jan/2025 21:07:47] \"GET / HTTP/1.1\" 200 -\n",
      "127.0.0.1 - - [10/Jan/2025 21:08:03] \"GET / HTTP/1.1\" 200 -\n",
      "INFO:werkzeug:127.0.0.1 - - [10/Jan/2025 21:08:03] \"GET / HTTP/1.1\" 200 -\n",
      "127.0.0.1 - - [10/Jan/2025 21:08:05] \"GET / HTTP/1.1\" 200 -\n",
      "INFO:werkzeug:127.0.0.1 - - [10/Jan/2025 21:08:05] \"GET / HTTP/1.1\" 200 -\n",
      "127.0.0.1 - - [10/Jan/2025 21:08:23] \"GET / HTTP/1.1\" 200 -\n",
      "INFO:werkzeug:127.0.0.1 - - [10/Jan/2025 21:08:23] \"GET / HTTP/1.1\" 200 -\n",
      "127.0.0.1 - - [10/Jan/2025 21:08:33] \"GET / HTTP/1.1\" 200 -\n",
      "INFO:werkzeug:127.0.0.1 - - [10/Jan/2025 21:08:33] \"GET / HTTP/1.1\" 200 -\n",
      "127.0.0.1 - - [10/Jan/2025 21:08:33] \"GET / HTTP/1.1\" 200 -\n",
      "INFO:werkzeug:127.0.0.1 - - [10/Jan/2025 21:08:33] \"GET / HTTP/1.1\" 200 -\n",
      "127.0.0.1 - - [10/Jan/2025 21:08:34] \"GET / HTTP/1.1\" 200 -\n",
      "INFO:werkzeug:127.0.0.1 - - [10/Jan/2025 21:08:34] \"GET / HTTP/1.1\" 200 -\n",
      "127.0.0.1 - - [10/Jan/2025 21:08:53] \"GET / HTTP/1.1\" 200 -\n",
      "INFO:werkzeug:127.0.0.1 - - [10/Jan/2025 21:08:53] \"GET / HTTP/1.1\" 200 -\n"
     ]
    }
   ],
   "source": [
    "from flask import Flask, render_template, request, jsonify\n",
    "\n",
    "app = Flask(__name__)\n",
    "\n",
    "@app.route('/')\n",
    "def home():\n",
    "    return render_template('index.html')\n",
    "\n",
    "@app.route('/get_stock_data', methods=['POST'])\n",
    "def get_stock_data():\n",
    "    stock_symbol = request.form['stock_symbol']\n",
    "    start_date = request.form['start_date']\n",
    "    end_date = request.form['end_date']\n",
    "\n",
    "    try:\n",
    "        # 爬取數據\n",
    "        stock_data = webCrawler(start_date, end_date, stock_symbol)\n",
    "        stock_data = generate_indicators(stock_data)\n",
    "\n",
    "        # PLR 特徵提取\n",
    "        segments = PLR(stock_data)\n",
    "        print(segments)\n",
    "        X, y_labels = get_features(segments, stock_data, np.arange(len(stock_data)), stock_data['close'].values, threshold=4.0)\n",
    "\n",
    "        # 載入模型\n",
    "        if(stock_symbol == '2330'):\n",
    "            model = load_model('mlp_lstm_model.h5')  # 這裡需要載入模型\n",
    "            y_pred = run_model(X, y_labels, model)\n",
    "        #else if(stock_symbol == '2454')\n",
    "\n",
    "        image_base64, total_profit = get_result(y_pred, segments, stock_data, stock_data['close'].values)\n",
    "\n",
    "        return jsonify({'status': 'success', 'image': image_base64, 'profit': total_profit})\n",
    "    except Exception as e:\n",
    "        return jsonify({'status': 'error', 'message': str(e)})\n",
    "\n",
    "if __name__ == '__main__':\n",
    "    app.run(debug=True, use_reloader=False)\n"
   ]
  }
 ],
 "metadata": {
  "kernelspec": {
   "display_name": "DS_class",
   "language": "python",
   "name": "python3"
  },
  "language_info": {
   "codemirror_mode": {
    "name": "ipython",
    "version": 3
   },
   "file_extension": ".py",
   "mimetype": "text/x-python",
   "name": "python",
   "nbconvert_exporter": "python",
   "pygments_lexer": "ipython3",
   "version": "3.12.2"
  }
 },
 "nbformat": 4,
 "nbformat_minor": 2
}
